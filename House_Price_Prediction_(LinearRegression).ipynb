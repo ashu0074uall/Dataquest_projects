{
 "cells": [
  {
   "cell_type": "markdown",
   "metadata": {},
   "source": [
    "# Predicting House Sale Prices\n",
    "\n",
    "We're going to look at predicting house sale prices from a selection of other features (to be determined), using linear regression.\n",
    "\n",
    "Current status: Transforming features.\n",
    "\n",
    "## Reading the data\n",
    "\n",
    "Tab delimited file available from https://ww2.amstat.org/publications/jse/v19n3/decock/AmesHousing.txt with data dictionary https://ww2.amstat.org/publications/jse/v19n3/decock/DataDocumentation.txt."
   ]
  },
  {
   "cell_type": "code",
   "execution_count": 1,
   "metadata": {
    "collapsed": false
   },
   "outputs": [
    {
     "data": {
      "text/html": [
       "<div>\n",
       "<table border=\"1\" class=\"dataframe\">\n",
       "  <thead>\n",
       "    <tr style=\"text-align: right;\">\n",
       "      <th></th>\n",
       "      <th>Order</th>\n",
       "      <th>PID</th>\n",
       "      <th>MS SubClass</th>\n",
       "      <th>MS Zoning</th>\n",
       "      <th>Lot Frontage</th>\n",
       "      <th>Lot Area</th>\n",
       "      <th>Street</th>\n",
       "      <th>Alley</th>\n",
       "      <th>Lot Shape</th>\n",
       "      <th>Land Contour</th>\n",
       "      <th>...</th>\n",
       "      <th>Pool Area</th>\n",
       "      <th>Pool QC</th>\n",
       "      <th>Fence</th>\n",
       "      <th>Misc Feature</th>\n",
       "      <th>Misc Val</th>\n",
       "      <th>Mo Sold</th>\n",
       "      <th>Yr Sold</th>\n",
       "      <th>Sale Type</th>\n",
       "      <th>Sale Condition</th>\n",
       "      <th>SalePrice</th>\n",
       "    </tr>\n",
       "  </thead>\n",
       "  <tbody>\n",
       "    <tr>\n",
       "      <th>0</th>\n",
       "      <td>1</td>\n",
       "      <td>526301100</td>\n",
       "      <td>20</td>\n",
       "      <td>RL</td>\n",
       "      <td>141.0</td>\n",
       "      <td>31770</td>\n",
       "      <td>Pave</td>\n",
       "      <td>NaN</td>\n",
       "      <td>IR1</td>\n",
       "      <td>Lvl</td>\n",
       "      <td>...</td>\n",
       "      <td>0</td>\n",
       "      <td>NaN</td>\n",
       "      <td>NaN</td>\n",
       "      <td>NaN</td>\n",
       "      <td>0</td>\n",
       "      <td>5</td>\n",
       "      <td>2010</td>\n",
       "      <td>WD</td>\n",
       "      <td>Normal</td>\n",
       "      <td>215000</td>\n",
       "    </tr>\n",
       "    <tr>\n",
       "      <th>1</th>\n",
       "      <td>2</td>\n",
       "      <td>526350040</td>\n",
       "      <td>20</td>\n",
       "      <td>RH</td>\n",
       "      <td>80.0</td>\n",
       "      <td>11622</td>\n",
       "      <td>Pave</td>\n",
       "      <td>NaN</td>\n",
       "      <td>Reg</td>\n",
       "      <td>Lvl</td>\n",
       "      <td>...</td>\n",
       "      <td>0</td>\n",
       "      <td>NaN</td>\n",
       "      <td>MnPrv</td>\n",
       "      <td>NaN</td>\n",
       "      <td>0</td>\n",
       "      <td>6</td>\n",
       "      <td>2010</td>\n",
       "      <td>WD</td>\n",
       "      <td>Normal</td>\n",
       "      <td>105000</td>\n",
       "    </tr>\n",
       "    <tr>\n",
       "      <th>2</th>\n",
       "      <td>3</td>\n",
       "      <td>526351010</td>\n",
       "      <td>20</td>\n",
       "      <td>RL</td>\n",
       "      <td>81.0</td>\n",
       "      <td>14267</td>\n",
       "      <td>Pave</td>\n",
       "      <td>NaN</td>\n",
       "      <td>IR1</td>\n",
       "      <td>Lvl</td>\n",
       "      <td>...</td>\n",
       "      <td>0</td>\n",
       "      <td>NaN</td>\n",
       "      <td>NaN</td>\n",
       "      <td>Gar2</td>\n",
       "      <td>12500</td>\n",
       "      <td>6</td>\n",
       "      <td>2010</td>\n",
       "      <td>WD</td>\n",
       "      <td>Normal</td>\n",
       "      <td>172000</td>\n",
       "    </tr>\n",
       "    <tr>\n",
       "      <th>3</th>\n",
       "      <td>4</td>\n",
       "      <td>526353030</td>\n",
       "      <td>20</td>\n",
       "      <td>RL</td>\n",
       "      <td>93.0</td>\n",
       "      <td>11160</td>\n",
       "      <td>Pave</td>\n",
       "      <td>NaN</td>\n",
       "      <td>Reg</td>\n",
       "      <td>Lvl</td>\n",
       "      <td>...</td>\n",
       "      <td>0</td>\n",
       "      <td>NaN</td>\n",
       "      <td>NaN</td>\n",
       "      <td>NaN</td>\n",
       "      <td>0</td>\n",
       "      <td>4</td>\n",
       "      <td>2010</td>\n",
       "      <td>WD</td>\n",
       "      <td>Normal</td>\n",
       "      <td>244000</td>\n",
       "    </tr>\n",
       "    <tr>\n",
       "      <th>4</th>\n",
       "      <td>5</td>\n",
       "      <td>527105010</td>\n",
       "      <td>60</td>\n",
       "      <td>RL</td>\n",
       "      <td>74.0</td>\n",
       "      <td>13830</td>\n",
       "      <td>Pave</td>\n",
       "      <td>NaN</td>\n",
       "      <td>IR1</td>\n",
       "      <td>Lvl</td>\n",
       "      <td>...</td>\n",
       "      <td>0</td>\n",
       "      <td>NaN</td>\n",
       "      <td>MnPrv</td>\n",
       "      <td>NaN</td>\n",
       "      <td>0</td>\n",
       "      <td>3</td>\n",
       "      <td>2010</td>\n",
       "      <td>WD</td>\n",
       "      <td>Normal</td>\n",
       "      <td>189900</td>\n",
       "    </tr>\n",
       "  </tbody>\n",
       "</table>\n",
       "<p>5 rows × 82 columns</p>\n",
       "</div>"
      ],
      "text/plain": [
       "   Order        PID  MS SubClass MS Zoning  Lot Frontage  Lot Area Street  \\\n",
       "0      1  526301100           20        RL         141.0     31770   Pave   \n",
       "1      2  526350040           20        RH          80.0     11622   Pave   \n",
       "2      3  526351010           20        RL          81.0     14267   Pave   \n",
       "3      4  526353030           20        RL          93.0     11160   Pave   \n",
       "4      5  527105010           60        RL          74.0     13830   Pave   \n",
       "\n",
       "  Alley Lot Shape Land Contour    ...     Pool Area Pool QC  Fence  \\\n",
       "0   NaN       IR1          Lvl    ...             0     NaN    NaN   \n",
       "1   NaN       Reg          Lvl    ...             0     NaN  MnPrv   \n",
       "2   NaN       IR1          Lvl    ...             0     NaN    NaN   \n",
       "3   NaN       Reg          Lvl    ...             0     NaN    NaN   \n",
       "4   NaN       IR1          Lvl    ...             0     NaN  MnPrv   \n",
       "\n",
       "  Misc Feature Misc Val Mo Sold Yr Sold Sale Type  Sale Condition  SalePrice  \n",
       "0          NaN        0       5    2010       WD           Normal     215000  \n",
       "1          NaN        0       6    2010       WD           Normal     105000  \n",
       "2         Gar2    12500       6    2010       WD           Normal     172000  \n",
       "3          NaN        0       4    2010       WD           Normal     244000  \n",
       "4          NaN        0       3    2010       WD           Normal     189900  \n",
       "\n",
       "[5 rows x 82 columns]"
      ]
     },
     "execution_count": 1,
     "metadata": {},
     "output_type": "execute_result"
    }
   ],
   "source": [
    "import pandas as pd\n",
    "import numpy as np\n",
    "import matplotlib.pyplot as plt\n",
    "from sklearn.linear_model import  LinearRegression\n",
    "from sklearn.metrics import mean_squared_error\n",
    "from sklearn.model_selection import cross_val_score\n",
    "%matplotlib inline\n",
    "\n",
    "data = pd.read_csv('AmesHousing.txt',delimiter='\\t')\n",
    "\n",
    "data.head()\n"
   ]
  },
  {
   "cell_type": "markdown",
   "metadata": {},
   "source": [
    "## Pipeline version of process\n",
    "### Transform > Select > Train and test\n",
    "\n",
    "These three cells (will) contain the whole pipeline packaged into functions, to allow quick reuse. The reasoning behind the steps taken here are reproduced in full below. This pipeline structure mimics what a productionized version might look like, with each step available to receive new training data and data to be prepared for predictive analysis."
   ]
  },
  {
   "cell_type": "code",
   "execution_count": 2,
   "metadata": {
    "collapsed": true
   },
   "outputs": [],
   "source": [
    "def transform_features(inframe):\n",
    "    \n",
    "    # Remove columns with more than 25% of values missing.\n",
    "    t_train = trainset.drop(['Alley','Fireplace Qu','Pool QC','Fence','Misc Feature'],axis=1)\n",
    "    t_test = testset.drop(['Alley','Fireplace Qu','Pool QC','Fence','Misc Feature'],axis=1)\n",
    "    \n",
    "    # PID (postal id) and Order (observation number) aren't predictive\n",
    "    del t_train['PID']\n",
    "    del t_test['PID']\n",
    "    del t_train['Order']\n",
    "    del t_test['Order']\n",
    "    \n",
    "    return t_train, t_test"
   ]
  },
  {
   "cell_type": "code",
   "execution_count": 3,
   "metadata": {
    "collapsed": true
   },
   "outputs": [],
   "source": [
    "def select_features(in_df):\n",
    "    selected_train = in_df[['Gr Liv Area','SalePrice']] \n",
    "    return selected_train"
   ]
  },
  {
   "cell_type": "code",
   "execution_count": 4,
   "metadata": {
    "collapsed": true
   },
   "outputs": [],
   "source": [
    "def train_and_test(inframe=data):\n",
    "    lrm = LinearRegression()\n",
    "    train_data = select_features(inframe)\n",
    "    \n",
    "    mean_s_errors = cross_val_score(lrm,\n",
    "                                    train_data.drop('SalePrice',axis=1),\n",
    "                                    train_data['SalePrice'],\n",
    "                                    scoring='neg_mean_squared_error',\n",
    "                                    cv=10)\n",
    "    # Root mean squared errors for each fold\n",
    "    r_ms_errors = [abs(m)**(1/2) for m in mean_s_errors]\n",
    "    \n",
    "    # Average root mean squared error across all folds\n",
    "    avg_rms_error = np.mean(r_ms_errors)\n",
    "    \n",
    "    return r_ms_errors, avg_rms_error"
   ]
  },
  {
   "cell_type": "code",
   "execution_count": 5,
   "metadata": {
    "collapsed": false
   },
   "outputs": [
    {
     "name": "stdout",
     "output_type": "stream",
     "text": [
      "[55364.966905101006, 67414.767057828198, 51652.028143302261, 61142.428190830913, 46974.79071976852, 69710.357300782242, 52492.991532255481, 61806.901095779387, 52299.554294257054, 47351.675966573712] \n",
      "\n",
      "56621.0461206\n"
     ]
    }
   ],
   "source": [
    "rmses, armse = train_and_test()\n",
    "print(rmses,'\\n')\n",
    "print(armse)\n"
   ]
  },
  {
   "cell_type": "markdown",
   "metadata": {},
   "source": [
    "# Exploratory Cells\n",
    "\n",
    "## Transformations\n",
    "\n",
    "### Numerical nulls and data leaks "
   ]
  },
  {
   "cell_type": "code",
   "execution_count": 6,
   "metadata": {
    "collapsed": false
   },
   "outputs": [
    {
     "data": {
      "text/plain": [
       "Alley           2732\n",
       "Fireplace Qu    1422\n",
       "Pool QC         2917\n",
       "Fence           2358\n",
       "Misc Feature    2824\n",
       "dtype: int64"
      ]
     },
     "execution_count": 6,
     "metadata": {},
     "output_type": "execute_result"
    }
   ],
   "source": [
    "# First looking for features with large numbers of nulls (more than 25%)\n",
    "# We'll remove these wholesale, assuming nothing too vital jumps out.\n",
    "\n",
    "num_val_counts = data.isnull().sum()\n",
    "num_val_counts[num_val_counts > 0.25*data.shape[0]]"
   ]
  },
  {
   "cell_type": "code",
   "execution_count": 7,
   "metadata": {
    "collapsed": false
   },
   "outputs": [],
   "source": [
    "# Looks ok, so dropping these. Starting new set for transformed data, in case we want to check data again.\n",
    "t_data = data[num_val_counts[num_val_counts < 0.25*data.shape[0]].index]"
   ]
  },
  {
   "cell_type": "code",
   "execution_count": 8,
   "metadata": {
    "collapsed": false
   },
   "outputs": [
    {
     "name": "stdout",
     "output_type": "stream",
     "text": [
      "<class 'pandas.core.frame.DataFrame'>\n",
      "RangeIndex: 2930 entries, 0 to 2929\n",
      "Data columns (total 22 columns):\n",
      "Lot Frontage      2440 non-null float64\n",
      "Mas Vnr Type      2907 non-null object\n",
      "Mas Vnr Area      2907 non-null float64\n",
      "Bsmt Qual         2850 non-null object\n",
      "Bsmt Cond         2850 non-null object\n",
      "Bsmt Exposure     2847 non-null object\n",
      "BsmtFin Type 1    2850 non-null object\n",
      "BsmtFin SF 1      2929 non-null float64\n",
      "BsmtFin Type 2    2849 non-null object\n",
      "BsmtFin SF 2      2929 non-null float64\n",
      "Bsmt Unf SF       2929 non-null float64\n",
      "Total Bsmt SF     2929 non-null float64\n",
      "Electrical        2929 non-null object\n",
      "Bsmt Full Bath    2928 non-null float64\n",
      "Bsmt Half Bath    2928 non-null float64\n",
      "Garage Type       2773 non-null object\n",
      "Garage Yr Blt     2771 non-null float64\n",
      "Garage Finish     2771 non-null object\n",
      "Garage Cars       2929 non-null float64\n",
      "Garage Area       2929 non-null float64\n",
      "Garage Qual       2771 non-null object\n",
      "Garage Cond       2771 non-null object\n",
      "dtypes: float64(11), object(11)\n",
      "memory usage: 503.7+ KB\n"
     ]
    }
   ],
   "source": [
    "# Reassign to drop the four missing columns\n",
    "num_val_counts = t_data.isnull().sum()\n",
    "\n",
    "# Now we'll take a look at columns with fewer but still non-zero nulls.\n",
    "t_data[num_val_counts[num_val_counts > 0].index].info()"
   ]
  },
  {
   "cell_type": "markdown",
   "metadata": {},
   "source": [
    "From the data dictionary we can see all the numeric columns here are ordinal or continuous, so we can replace nulls in these columns with the mean for the column without creating nonsense values."
   ]
  },
  {
   "cell_type": "code",
   "execution_count": 9,
   "metadata": {
    "collapsed": false
   },
   "outputs": [
    {
     "data": {
      "text/html": [
       "<div>\n",
       "<table border=\"1\" class=\"dataframe\">\n",
       "  <thead>\n",
       "    <tr style=\"text-align: right;\">\n",
       "      <th></th>\n",
       "      <th>Order</th>\n",
       "      <th>PID</th>\n",
       "      <th>MS SubClass</th>\n",
       "      <th>MS Zoning</th>\n",
       "      <th>Lot Frontage</th>\n",
       "      <th>Lot Area</th>\n",
       "      <th>Street</th>\n",
       "      <th>Lot Shape</th>\n",
       "      <th>Land Contour</th>\n",
       "      <th>Utilities</th>\n",
       "      <th>...</th>\n",
       "      <th>Enclosed Porch</th>\n",
       "      <th>3Ssn Porch</th>\n",
       "      <th>Screen Porch</th>\n",
       "      <th>Pool Area</th>\n",
       "      <th>Misc Val</th>\n",
       "      <th>Mo Sold</th>\n",
       "      <th>Yr Sold</th>\n",
       "      <th>Sale Type</th>\n",
       "      <th>Sale Condition</th>\n",
       "      <th>SalePrice</th>\n",
       "    </tr>\n",
       "  </thead>\n",
       "  <tbody>\n",
       "    <tr>\n",
       "      <th>0</th>\n",
       "      <td>1</td>\n",
       "      <td>526301100</td>\n",
       "      <td>20</td>\n",
       "      <td>RL</td>\n",
       "      <td>141.0</td>\n",
       "      <td>31770</td>\n",
       "      <td>Pave</td>\n",
       "      <td>IR1</td>\n",
       "      <td>Lvl</td>\n",
       "      <td>AllPub</td>\n",
       "      <td>...</td>\n",
       "      <td>0</td>\n",
       "      <td>0</td>\n",
       "      <td>0</td>\n",
       "      <td>0</td>\n",
       "      <td>0</td>\n",
       "      <td>5</td>\n",
       "      <td>2010</td>\n",
       "      <td>WD</td>\n",
       "      <td>Normal</td>\n",
       "      <td>215000</td>\n",
       "    </tr>\n",
       "    <tr>\n",
       "      <th>1</th>\n",
       "      <td>2</td>\n",
       "      <td>526350040</td>\n",
       "      <td>20</td>\n",
       "      <td>RH</td>\n",
       "      <td>80.0</td>\n",
       "      <td>11622</td>\n",
       "      <td>Pave</td>\n",
       "      <td>Reg</td>\n",
       "      <td>Lvl</td>\n",
       "      <td>AllPub</td>\n",
       "      <td>...</td>\n",
       "      <td>0</td>\n",
       "      <td>0</td>\n",
       "      <td>120</td>\n",
       "      <td>0</td>\n",
       "      <td>0</td>\n",
       "      <td>6</td>\n",
       "      <td>2010</td>\n",
       "      <td>WD</td>\n",
       "      <td>Normal</td>\n",
       "      <td>105000</td>\n",
       "    </tr>\n",
       "    <tr>\n",
       "      <th>2</th>\n",
       "      <td>3</td>\n",
       "      <td>526351010</td>\n",
       "      <td>20</td>\n",
       "      <td>RL</td>\n",
       "      <td>81.0</td>\n",
       "      <td>14267</td>\n",
       "      <td>Pave</td>\n",
       "      <td>IR1</td>\n",
       "      <td>Lvl</td>\n",
       "      <td>AllPub</td>\n",
       "      <td>...</td>\n",
       "      <td>0</td>\n",
       "      <td>0</td>\n",
       "      <td>0</td>\n",
       "      <td>0</td>\n",
       "      <td>12500</td>\n",
       "      <td>6</td>\n",
       "      <td>2010</td>\n",
       "      <td>WD</td>\n",
       "      <td>Normal</td>\n",
       "      <td>172000</td>\n",
       "    </tr>\n",
       "    <tr>\n",
       "      <th>3</th>\n",
       "      <td>4</td>\n",
       "      <td>526353030</td>\n",
       "      <td>20</td>\n",
       "      <td>RL</td>\n",
       "      <td>93.0</td>\n",
       "      <td>11160</td>\n",
       "      <td>Pave</td>\n",
       "      <td>Reg</td>\n",
       "      <td>Lvl</td>\n",
       "      <td>AllPub</td>\n",
       "      <td>...</td>\n",
       "      <td>0</td>\n",
       "      <td>0</td>\n",
       "      <td>0</td>\n",
       "      <td>0</td>\n",
       "      <td>0</td>\n",
       "      <td>4</td>\n",
       "      <td>2010</td>\n",
       "      <td>WD</td>\n",
       "      <td>Normal</td>\n",
       "      <td>244000</td>\n",
       "    </tr>\n",
       "    <tr>\n",
       "      <th>4</th>\n",
       "      <td>5</td>\n",
       "      <td>527105010</td>\n",
       "      <td>60</td>\n",
       "      <td>RL</td>\n",
       "      <td>74.0</td>\n",
       "      <td>13830</td>\n",
       "      <td>Pave</td>\n",
       "      <td>IR1</td>\n",
       "      <td>Lvl</td>\n",
       "      <td>AllPub</td>\n",
       "      <td>...</td>\n",
       "      <td>0</td>\n",
       "      <td>0</td>\n",
       "      <td>0</td>\n",
       "      <td>0</td>\n",
       "      <td>0</td>\n",
       "      <td>3</td>\n",
       "      <td>2010</td>\n",
       "      <td>WD</td>\n",
       "      <td>Normal</td>\n",
       "      <td>189900</td>\n",
       "    </tr>\n",
       "  </tbody>\n",
       "</table>\n",
       "<p>5 rows × 77 columns</p>\n",
       "</div>"
      ],
      "text/plain": [
       "   Order        PID  MS SubClass MS Zoning  Lot Frontage  Lot Area Street  \\\n",
       "0      1  526301100           20        RL         141.0     31770   Pave   \n",
       "1      2  526350040           20        RH          80.0     11622   Pave   \n",
       "2      3  526351010           20        RL          81.0     14267   Pave   \n",
       "3      4  526353030           20        RL          93.0     11160   Pave   \n",
       "4      5  527105010           60        RL          74.0     13830   Pave   \n",
       "\n",
       "  Lot Shape Land Contour Utilities    ...     Enclosed Porch 3Ssn Porch  \\\n",
       "0       IR1          Lvl    AllPub    ...                  0          0   \n",
       "1       Reg          Lvl    AllPub    ...                  0          0   \n",
       "2       IR1          Lvl    AllPub    ...                  0          0   \n",
       "3       Reg          Lvl    AllPub    ...                  0          0   \n",
       "4       IR1          Lvl    AllPub    ...                  0          0   \n",
       "\n",
       "  Screen Porch Pool Area Misc Val Mo Sold Yr Sold  Sale Type  Sale Condition  \\\n",
       "0            0         0        0       5    2010        WD           Normal   \n",
       "1          120         0        0       6    2010        WD           Normal   \n",
       "2            0         0    12500       6    2010        WD           Normal   \n",
       "3            0         0        0       4    2010        WD           Normal   \n",
       "4            0         0        0       3    2010        WD           Normal   \n",
       "\n",
       "   SalePrice  \n",
       "0     215000  \n",
       "1     105000  \n",
       "2     172000  \n",
       "3     244000  \n",
       "4     189900  \n",
       "\n",
       "[5 rows x 77 columns]"
      ]
     },
     "execution_count": 9,
     "metadata": {},
     "output_type": "execute_result"
    }
   ],
   "source": [
    "# Turning off chained assignment warning\n",
    "pd.options.mode.chained_assignment = None  # default='warn'\n",
    "\n",
    "# Select columns to replace\n",
    "cols = t_data[num_val_counts[num_val_counts > 0].index].select_dtypes(include=['float64']).columns.tolist()\n",
    "\n",
    "# Fillna on selected columns\n",
    "t_data[cols] = t_data.loc[:,cols].fillna(t_data.loc[:,cols].mean())\n",
    "\n",
    "t_data.head()"
   ]
  },
  {
   "cell_type": "markdown",
   "metadata": {},
   "source": [
    "We'll return to the string fields separately. Let's briefly take a diversion to remove columns that may leak info about the final sale (i.e. columns that contain data we won't have when making a prediction, like the Sale Month and Year). We'll drop all of these. Additionally, reading the documentation we can see that PID and Order are not going to be useful for us so we'll drop those too."
   ]
  },
  {
   "cell_type": "code",
   "execution_count": 10,
   "metadata": {
    "collapsed": false
   },
   "outputs": [],
   "source": [
    "leak_cols = ['Sale Type','Sale Condition','Mo Sold','Yr Sold','PID','Order']\n",
    "t_data = t_data.drop(leak_cols,axis=1)"
   ]
  },
  {
   "cell_type": "markdown",
   "metadata": {},
   "source": [
    "### Nominal features"
   ]
  },
  {
   "cell_type": "code",
   "execution_count": 17,
   "metadata": {
    "collapsed": false
   },
   "outputs": [
    {
     "name": "stdout",
     "output_type": "stream",
     "text": [
      "MS SubClass \n",
      " % of rows with single value  0.368259385666 \n",
      " unique vals  16 \n",
      "\n",
      "MS Zoning \n",
      " % of rows with single value  0.775767918089 \n",
      " unique vals  7 \n",
      "\n",
      "Street \n",
      " % of rows with single value  0.99590443686 \n",
      " unique vals  2 \n",
      "\n",
      "Land Contour \n",
      " % of rows with single value  0.898634812287 \n",
      " unique vals  4 \n",
      "\n",
      "Lot Config \n",
      " % of rows with single value  0.730375426621 \n",
      " unique vals  5 \n",
      "\n",
      "Neighborhood \n",
      " % of rows with single value  0.151194539249 \n",
      " unique vals  28 \n",
      "\n",
      "Condition 1 \n",
      " % of rows with single value  0.860750853242 \n",
      " unique vals  9 \n",
      "\n",
      "Condition 2 \n",
      " % of rows with single value  0.98976109215 \n",
      " unique vals  8 \n",
      "\n",
      "Bldg Type \n",
      " % of rows with single value  0.827645051195 \n",
      " unique vals  5 \n",
      "\n",
      "House Style \n",
      " % of rows with single value  0.505460750853 \n",
      " unique vals  8 \n",
      "\n",
      "Roof Style \n",
      " % of rows with single value  0.792150170648 \n",
      " unique vals  6 \n",
      "\n",
      "Roof Matl \n",
      " % of rows with single value  0.985324232082 \n",
      " unique vals  8 \n",
      "\n",
      "Exterior 1st \n",
      " % of rows with single value  0.350170648464 \n",
      " unique vals  16 \n",
      "\n",
      "Exterior 2nd \n",
      " % of rows with single value  0.346416382253 \n",
      " unique vals  17 \n",
      "\n",
      "Mas Vnr Type \n",
      " % of rows with single value  0.59795221843 \n",
      " unique vals  6 \n",
      "\n",
      "Foundation \n",
      " % of rows with single value  0.447098976109 \n",
      " unique vals  6 \n",
      "\n",
      "Heating \n",
      " % of rows with single value  0.984641638225 \n",
      " unique vals  6 \n",
      "\n",
      "Central Air \n",
      " % of rows with single value  0.933105802048 \n",
      " unique vals  2 \n",
      "\n",
      "Garage Type \n",
      " % of rows with single value  0.590784982935 \n",
      " unique vals  7 \n",
      "\n"
     ]
    }
   ],
   "source": [
    "# Columns listed as nominal in the dictionary (minus those we've already dropped)\n",
    "nominals = ['MS SubClass','MS Zoning','Street','Land Contour','Lot Config',\n",
    "            'Neighborhood','Condition 1','Condition 2','Bldg Type','House Style',\n",
    "            'Roof Style','Roof Matl','Exterior 1st','Exterior 2nd','Mas Vnr Type',\n",
    "            'Foundation','Heating','Central Air','Garage Type']\n",
    "\n",
    "# A couple of stats on each column. Also stored in dictionary.\n",
    "noms = {}\n",
    "\n",
    "for n in nominals:\n",
    "    counts = data[n].value_counts(dropna=False)\n",
    "    \n",
    "    # Dictionary will contain % of rows belonging to the most common category\n",
    "    noms[n] = [counts.max()/counts.sum(),counts.shape[0]]\n",
    "    print(n,'\\n % of rows with single value ',counts.max()/counts.sum(),'\\n unique vals ',counts.shape[0],'\\n')"
   ]
  },
  {
   "cell_type": "markdown",
   "metadata": {},
   "source": [
    "Columns where a high number of rows have the same value won't have much use in the model, so can probably be discounted. We'll drop those here. I'm picking a threshold of 90% here."
   ]
  },
  {
   "cell_type": "code",
   "execution_count": 18,
   "metadata": {
    "collapsed": false
   },
   "outputs": [
    {
     "name": "stdout",
     "output_type": "stream",
     "text": [
      "(2930, 71)\n",
      "(2930, 66)\n"
     ]
    }
   ],
   "source": [
    "print(t_data.shape)\n",
    "for n in noms:\n",
    "    if noms[n][0] > 0.9:\n",
    "        # Drop from our transformed data and also from nominals list\n",
    "        t_data.drop(n,axis=1,inplace=True)\n",
    "        nominals.remove(n)\n",
    "print(t_data.shape)"
   ]
  },
  {
   "cell_type": "markdown",
   "metadata": {},
   "source": [
    "Next we'll think about whether or not we want to transform the other nominal columns into dummy numerical columns. Scanning back over the list a few cells up, there are a few columns with a number of categories but they tend to be fairly important. The numbers aren't in the hundreds, so I'm inclined to keep them all."
   ]
  },
  {
   "cell_type": "code",
   "execution_count": 21,
   "metadata": {
    "collapsed": false
   },
   "outputs": [],
   "source": [
    "# Change to category type\n",
    "for n in nominals:\n",
    "    t_data[n] = t_data[n].astype('category')\n",
    "\n",
    "# Get dummy cols and combine to dataset\n",
    "dummy_cols = pd.get_dummies(t_data[nominals])\n",
    "t_data = pd.concat([t_data,dummy_cols],axis=1)\n",
    "\n",
    "# Drop the original columns\n",
    "t_data.drop(nominals,axis=1,inplace=True)"
   ]
  },
  {
   "cell_type": "markdown",
   "metadata": {},
   "source": [
    "### Ordinal string columns\n",
    "\n",
    "String columns with a meaningful order will be turned mapped ot numeric values."
   ]
  },
  {
   "cell_type": "code",
   "execution_count": 22,
   "metadata": {
    "collapsed": false
   },
   "outputs": [
    {
     "data": {
      "text/plain": [
       "['Lot Shape',\n",
       " 'Utilities',\n",
       " 'Land Slope',\n",
       " 'Exter Qual',\n",
       " 'Exter Cond',\n",
       " 'Bsmt Qual',\n",
       " 'Bsmt Cond',\n",
       " 'Bsmt Exposure',\n",
       " 'BsmtFin Type 1',\n",
       " 'BsmtFin Type 2',\n",
       " 'Heating QC',\n",
       " 'Electrical',\n",
       " 'Kitchen Qual',\n",
       " 'Functional',\n",
       " 'Garage Finish',\n",
       " 'Garage Qual',\n",
       " 'Garage Cond',\n",
       " 'Paved Drive']"
      ]
     },
     "execution_count": 22,
     "metadata": {},
     "output_type": "execute_result"
    }
   ],
   "source": [
    "t_data.select_dtypes(include=['object']).columns.tolist()"
   ]
  }
 ],
 "metadata": {
  "anaconda-cloud": {},
  "kernelspec": {
   "display_name": "Python 3",
   "language": "python",
   "name": "python3"
  },
  "language_info": {
   "codemirror_mode": {
    "name": "ipython",
    "version": 3
   },
   "file_extension": ".py",
   "mimetype": "text/x-python",
   "name": "python",
   "nbconvert_exporter": "python",
   "pygments_lexer": "ipython3",
   "version": "3.4.3"
  }
 },
 "nbformat": 4,
 "nbformat_minor": 2
}
