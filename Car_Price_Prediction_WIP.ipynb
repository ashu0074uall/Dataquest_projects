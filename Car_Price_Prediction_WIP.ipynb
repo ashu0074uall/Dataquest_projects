{
 "cells": [
  {
   "cell_type": "markdown",
   "metadata": {},
   "source": [
    "# Predicting car prices\n",
    "\n",
    "In this project, we will be using a K nearest neighbours model to predict the prices of cars from other attributes. We are connecting directly to a dataset in the first step. Additional documentation about the dataset we are using can be found here:\n",
    "https://archive.ics.uci.edu/ml/datasets/automobile\n"
   ]
  },
  {
   "cell_type": "code",
   "execution_count": 1,
   "metadata": {
    "collapsed": true
   },
   "outputs": [],
   "source": [
    "import pandas as pd\n",
    "import numpy as np\n",
    "\n",
    "\n",
    "url = 'https://archive.ics.uci.edu/ml/machine-learning-databases/autos/imports-85.data'\n",
    "\n",
    "# No header on this dataset, so defining columns headings from the documentation.\n",
    "cols = ['symboling','normalized_losses','make','fuel_type','aspiration','doors','body_style','drive_wheels',\n",
    "       'engine_location','wheel_base','length','width','height','curb_weight','engine_type','cylinders','engine_size',\n",
    "       'fuel_system','bore','stroke','compression_ratio','horsepower','peak_rpm','city_mpg','highway_mpg','price']\n",
    "\n",
    "cars = pd.read_csv(url,header=None,names=cols)"
   ]
  },
  {
   "cell_type": "code",
   "execution_count": 2,
   "metadata": {},
   "outputs": [
    {
     "data": {
      "text/html": [
       "<div>\n",
       "<style>\n",
       "    .dataframe thead tr:only-child th {\n",
       "        text-align: right;\n",
       "    }\n",
       "\n",
       "    .dataframe thead th {\n",
       "        text-align: left;\n",
       "    }\n",
       "\n",
       "    .dataframe tbody tr th {\n",
       "        vertical-align: top;\n",
       "    }\n",
       "</style>\n",
       "<table border=\"1\" class=\"dataframe\">\n",
       "  <thead>\n",
       "    <tr style=\"text-align: right;\">\n",
       "      <th></th>\n",
       "      <th>symboling</th>\n",
       "      <th>normalized_losses</th>\n",
       "      <th>make</th>\n",
       "      <th>fuel_type</th>\n",
       "      <th>aspiration</th>\n",
       "      <th>doors</th>\n",
       "      <th>body_style</th>\n",
       "      <th>drive_wheels</th>\n",
       "      <th>engine_location</th>\n",
       "      <th>wheel_base</th>\n",
       "      <th>...</th>\n",
       "      <th>engine_size</th>\n",
       "      <th>fuel_system</th>\n",
       "      <th>bore</th>\n",
       "      <th>stroke</th>\n",
       "      <th>compression_ratio</th>\n",
       "      <th>horsepower</th>\n",
       "      <th>peak_rpm</th>\n",
       "      <th>city_mpg</th>\n",
       "      <th>highway_mpg</th>\n",
       "      <th>price</th>\n",
       "    </tr>\n",
       "  </thead>\n",
       "  <tbody>\n",
       "    <tr>\n",
       "      <th>0</th>\n",
       "      <td>3</td>\n",
       "      <td>?</td>\n",
       "      <td>alfa-romero</td>\n",
       "      <td>gas</td>\n",
       "      <td>std</td>\n",
       "      <td>two</td>\n",
       "      <td>convertible</td>\n",
       "      <td>rwd</td>\n",
       "      <td>front</td>\n",
       "      <td>88.6</td>\n",
       "      <td>...</td>\n",
       "      <td>130</td>\n",
       "      <td>mpfi</td>\n",
       "      <td>3.47</td>\n",
       "      <td>2.68</td>\n",
       "      <td>9.0</td>\n",
       "      <td>111</td>\n",
       "      <td>5000</td>\n",
       "      <td>21</td>\n",
       "      <td>27</td>\n",
       "      <td>13495</td>\n",
       "    </tr>\n",
       "    <tr>\n",
       "      <th>1</th>\n",
       "      <td>3</td>\n",
       "      <td>?</td>\n",
       "      <td>alfa-romero</td>\n",
       "      <td>gas</td>\n",
       "      <td>std</td>\n",
       "      <td>two</td>\n",
       "      <td>convertible</td>\n",
       "      <td>rwd</td>\n",
       "      <td>front</td>\n",
       "      <td>88.6</td>\n",
       "      <td>...</td>\n",
       "      <td>130</td>\n",
       "      <td>mpfi</td>\n",
       "      <td>3.47</td>\n",
       "      <td>2.68</td>\n",
       "      <td>9.0</td>\n",
       "      <td>111</td>\n",
       "      <td>5000</td>\n",
       "      <td>21</td>\n",
       "      <td>27</td>\n",
       "      <td>16500</td>\n",
       "    </tr>\n",
       "    <tr>\n",
       "      <th>2</th>\n",
       "      <td>1</td>\n",
       "      <td>?</td>\n",
       "      <td>alfa-romero</td>\n",
       "      <td>gas</td>\n",
       "      <td>std</td>\n",
       "      <td>two</td>\n",
       "      <td>hatchback</td>\n",
       "      <td>rwd</td>\n",
       "      <td>front</td>\n",
       "      <td>94.5</td>\n",
       "      <td>...</td>\n",
       "      <td>152</td>\n",
       "      <td>mpfi</td>\n",
       "      <td>2.68</td>\n",
       "      <td>3.47</td>\n",
       "      <td>9.0</td>\n",
       "      <td>154</td>\n",
       "      <td>5000</td>\n",
       "      <td>19</td>\n",
       "      <td>26</td>\n",
       "      <td>16500</td>\n",
       "    </tr>\n",
       "    <tr>\n",
       "      <th>3</th>\n",
       "      <td>2</td>\n",
       "      <td>164</td>\n",
       "      <td>audi</td>\n",
       "      <td>gas</td>\n",
       "      <td>std</td>\n",
       "      <td>four</td>\n",
       "      <td>sedan</td>\n",
       "      <td>fwd</td>\n",
       "      <td>front</td>\n",
       "      <td>99.8</td>\n",
       "      <td>...</td>\n",
       "      <td>109</td>\n",
       "      <td>mpfi</td>\n",
       "      <td>3.19</td>\n",
       "      <td>3.40</td>\n",
       "      <td>10.0</td>\n",
       "      <td>102</td>\n",
       "      <td>5500</td>\n",
       "      <td>24</td>\n",
       "      <td>30</td>\n",
       "      <td>13950</td>\n",
       "    </tr>\n",
       "    <tr>\n",
       "      <th>4</th>\n",
       "      <td>2</td>\n",
       "      <td>164</td>\n",
       "      <td>audi</td>\n",
       "      <td>gas</td>\n",
       "      <td>std</td>\n",
       "      <td>four</td>\n",
       "      <td>sedan</td>\n",
       "      <td>4wd</td>\n",
       "      <td>front</td>\n",
       "      <td>99.4</td>\n",
       "      <td>...</td>\n",
       "      <td>136</td>\n",
       "      <td>mpfi</td>\n",
       "      <td>3.19</td>\n",
       "      <td>3.40</td>\n",
       "      <td>8.0</td>\n",
       "      <td>115</td>\n",
       "      <td>5500</td>\n",
       "      <td>18</td>\n",
       "      <td>22</td>\n",
       "      <td>17450</td>\n",
       "    </tr>\n",
       "  </tbody>\n",
       "</table>\n",
       "<p>5 rows × 26 columns</p>\n",
       "</div>"
      ],
      "text/plain": [
       "   symboling normalized_losses         make fuel_type aspiration doors  \\\n",
       "0          3                 ?  alfa-romero       gas        std   two   \n",
       "1          3                 ?  alfa-romero       gas        std   two   \n",
       "2          1                 ?  alfa-romero       gas        std   two   \n",
       "3          2               164         audi       gas        std  four   \n",
       "4          2               164         audi       gas        std  four   \n",
       "\n",
       "    body_style drive_wheels engine_location  wheel_base  ...    engine_size  \\\n",
       "0  convertible          rwd           front        88.6  ...            130   \n",
       "1  convertible          rwd           front        88.6  ...            130   \n",
       "2    hatchback          rwd           front        94.5  ...            152   \n",
       "3        sedan          fwd           front        99.8  ...            109   \n",
       "4        sedan          4wd           front        99.4  ...            136   \n",
       "\n",
       "   fuel_system  bore  stroke compression_ratio horsepower  peak_rpm city_mpg  \\\n",
       "0         mpfi  3.47    2.68               9.0        111      5000       21   \n",
       "1         mpfi  3.47    2.68               9.0        111      5000       21   \n",
       "2         mpfi  2.68    3.47               9.0        154      5000       19   \n",
       "3         mpfi  3.19    3.40              10.0        102      5500       24   \n",
       "4         mpfi  3.19    3.40               8.0        115      5500       18   \n",
       "\n",
       "  highway_mpg  price  \n",
       "0          27  13495  \n",
       "1          27  16500  \n",
       "2          26  16500  \n",
       "3          30  13950  \n",
       "4          22  17450  \n",
       "\n",
       "[5 rows x 26 columns]"
      ]
     },
     "execution_count": 2,
     "metadata": {},
     "output_type": "execute_result"
    }
   ],
   "source": [
    "cars.head()"
   ]
  },
  {
   "cell_type": "markdown",
   "metadata": {},
   "source": [
    "# Normalizing and cleaning\n",
    "\n",
    "We need to deal with missing values in numeric columns that we will use for our model, and also normalize columns so that no particular columns is given greater weight in the model."
   ]
  },
  {
   "cell_type": "code",
   "execution_count": 3,
   "metadata": {
    "collapsed": true
   },
   "outputs": [],
   "source": [
    "# Replacing all '?' symbols with NaN\n",
    "cars.replace(to_replace='?',value=np.nan,inplace=True)"
   ]
  },
  {
   "cell_type": "code",
   "execution_count": 4,
   "metadata": {},
   "outputs": [
    {
     "data": {
      "text/plain": [
       "symboling              int64\n",
       "normalized_losses     object\n",
       "make                  object\n",
       "fuel_type             object\n",
       "aspiration            object\n",
       "doors                 object\n",
       "body_style            object\n",
       "drive_wheels          object\n",
       "engine_location       object\n",
       "wheel_base           float64\n",
       "length               float64\n",
       "width                float64\n",
       "height               float64\n",
       "curb_weight            int64\n",
       "engine_type           object\n",
       "cylinders             object\n",
       "engine_size            int64\n",
       "fuel_system           object\n",
       "bore                  object\n",
       "stroke                object\n",
       "compression_ratio    float64\n",
       "horsepower            object\n",
       "peak_rpm              object\n",
       "city_mpg               int64\n",
       "highway_mpg            int64\n",
       "price                 object\n",
       "dtype: object"
      ]
     },
     "execution_count": 4,
     "metadata": {},
     "output_type": "execute_result"
    }
   ],
   "source": [
    "cars.dtypes"
   ]
  },
  {
   "cell_type": "code",
   "execution_count": 5,
   "metadata": {
    "collapsed": true
   },
   "outputs": [],
   "source": [
    "# Simple transform to float for columns with NaN\n",
    "num_cols = ['normalized_losses','bore','stroke','horsepower','peak_rpm','price']\n",
    "#cars[num_cols].isnull().sum()\n",
    "\n",
    "cars[num_cols] = cars[num_cols].astype(float)"
   ]
  },
  {
   "cell_type": "code",
   "execution_count": 6,
   "metadata": {
    "collapsed": true
   },
   "outputs": [],
   "source": [
    "# Dictionary to map string versions of numbers to integers (for doors and cylinders)\n",
    "str_nums = {'two':2,'three':3,'four':4,'five':5,'six':6,'eight':8,'twelve':12}\n",
    "\n",
    "cars['doors'] = cars['doors'].map(str_nums)\n",
    "cars['cylinders'] = cars['cylinders'].map(str_nums)"
   ]
  },
  {
   "cell_type": "code",
   "execution_count": 7,
   "metadata": {},
   "outputs": [
    {
     "data": {
      "text/plain": [
       "symboling              int64\n",
       "normalized_losses    float64\n",
       "make                  object\n",
       "fuel_type             object\n",
       "aspiration            object\n",
       "doors                float64\n",
       "body_style            object\n",
       "drive_wheels          object\n",
       "engine_location       object\n",
       "wheel_base           float64\n",
       "length               float64\n",
       "width                float64\n",
       "height               float64\n",
       "curb_weight            int64\n",
       "engine_type           object\n",
       "cylinders              int64\n",
       "engine_size            int64\n",
       "fuel_system           object\n",
       "bore                 float64\n",
       "stroke               float64\n",
       "compression_ratio    float64\n",
       "horsepower           float64\n",
       "peak_rpm             float64\n",
       "city_mpg               int64\n",
       "highway_mpg            int64\n",
       "price                float64\n",
       "dtype: object"
      ]
     },
     "execution_count": 7,
     "metadata": {},
     "output_type": "execute_result"
    }
   ],
   "source": [
    "cars.dtypes"
   ]
  },
  {
   "cell_type": "code",
   "execution_count": 8,
   "metadata": {},
   "outputs": [
    {
     "data": {
      "text/plain": [
       "symboling             0\n",
       "normalized_losses    41\n",
       "make                  0\n",
       "fuel_type             0\n",
       "aspiration            0\n",
       "doors                 2\n",
       "body_style            0\n",
       "drive_wheels          0\n",
       "engine_location       0\n",
       "wheel_base            0\n",
       "length                0\n",
       "width                 0\n",
       "height                0\n",
       "curb_weight           0\n",
       "engine_type           0\n",
       "cylinders             0\n",
       "engine_size           0\n",
       "fuel_system           0\n",
       "bore                  4\n",
       "stroke                4\n",
       "compression_ratio     0\n",
       "horsepower            2\n",
       "peak_rpm              2\n",
       "city_mpg              0\n",
       "highway_mpg           0\n",
       "price                 4\n",
       "dtype: int64"
      ]
     },
     "execution_count": 8,
     "metadata": {},
     "output_type": "execute_result"
    }
   ],
   "source": [
    "# Looking better. Now to deal with null values.\n",
    "cars.isnull().sum()"
   ]
  },
  {
   "cell_type": "code",
   "execution_count": 9,
   "metadata": {
    "collapsed": true
   },
   "outputs": [],
   "source": [
    "# Vast majority of nulls are in the normalized_losses column, so that'll be the key one to deal with.\n",
    "# Our dataset is small enough as it is, so I'm not keen to drop those rows. Instead I'll replace nulls\n",
    "# with the average for the column.\n",
    "\n",
    "cars['normalized_losses'] = cars['normalized_losses'].fillna(cars['normalized_losses'].mean())\n"
   ]
  },
  {
   "cell_type": "code",
   "execution_count": 10,
   "metadata": {
    "collapsed": true
   },
   "outputs": [],
   "source": [
    "# We'll be predicting price, so it'll be vital to have an accurate price value in our test set. For that reason, we'll drop\n",
    "# rows with a null price.\n",
    "cars = cars[cars['price'].isnull() == False]"
   ]
  },
  {
   "cell_type": "code",
   "execution_count": 11,
   "metadata": {
    "collapsed": true
   },
   "outputs": [],
   "source": [
    "# There is a complete overlap between null bore and null stroke rows, so we'll drop those too.\n",
    "cars = cars[cars['bore'].isnull() == False]"
   ]
  },
  {
   "cell_type": "code",
   "execution_count": 12,
   "metadata": {
    "collapsed": true
   },
   "outputs": [],
   "source": [
    "# Similarly we'll drop the horsepower and peak_rpm nulls as they overlap\n",
    "cars = cars[cars['horsepower'].isnull() == False]"
   ]
  },
  {
   "cell_type": "code",
   "execution_count": 13,
   "metadata": {
    "collapsed": true
   },
   "outputs": [],
   "source": [
    "# Both the null values in the doors column are on rows with the 'sedan' body type. Sedans are normally 4 door, so we'll\n",
    "# use that value.\n",
    "cars['doors'] = cars['doors'].fillna(4)"
   ]
  },
  {
   "cell_type": "code",
   "execution_count": 14,
   "metadata": {},
   "outputs": [
    {
     "data": {
      "text/html": [
       "<div>\n",
       "<style>\n",
       "    .dataframe thead tr:only-child th {\n",
       "        text-align: right;\n",
       "    }\n",
       "\n",
       "    .dataframe thead th {\n",
       "        text-align: left;\n",
       "    }\n",
       "\n",
       "    .dataframe tbody tr th {\n",
       "        vertical-align: top;\n",
       "    }\n",
       "</style>\n",
       "<table border=\"1\" class=\"dataframe\">\n",
       "  <thead>\n",
       "    <tr style=\"text-align: right;\">\n",
       "      <th></th>\n",
       "      <th>symboling</th>\n",
       "      <th>normalized_losses</th>\n",
       "      <th>doors</th>\n",
       "      <th>wheel_base</th>\n",
       "      <th>length</th>\n",
       "      <th>width</th>\n",
       "      <th>height</th>\n",
       "      <th>curb_weight</th>\n",
       "      <th>cylinders</th>\n",
       "      <th>engine_size</th>\n",
       "      <th>bore</th>\n",
       "      <th>stroke</th>\n",
       "      <th>compression_ratio</th>\n",
       "      <th>horsepower</th>\n",
       "      <th>peak_rpm</th>\n",
       "      <th>city_mpg</th>\n",
       "      <th>highway_mpg</th>\n",
       "      <th>price</th>\n",
       "    </tr>\n",
       "  </thead>\n",
       "  <tbody>\n",
       "    <tr>\n",
       "      <th>0</th>\n",
       "      <td>1.791895</td>\n",
       "      <td>0.017819</td>\n",
       "      <td>-1.183296</td>\n",
       "      <td>-1.679117</td>\n",
       "      <td>-0.437378</td>\n",
       "      <td>-0.837593</td>\n",
       "      <td>-2.111810</td>\n",
       "      <td>-0.020964</td>\n",
       "      <td>-0.407729</td>\n",
       "      <td>0.049755</td>\n",
       "      <td>0.517224</td>\n",
       "      <td>-1.815604</td>\n",
       "      <td>-0.294176</td>\n",
       "      <td>0.204073</td>\n",
       "      <td>-0.212456</td>\n",
       "      <td>-0.683346</td>\n",
       "      <td>-0.562432</td>\n",
       "      <td>13495.0</td>\n",
       "    </tr>\n",
       "    <tr>\n",
       "      <th>1</th>\n",
       "      <td>1.791895</td>\n",
       "      <td>0.017819</td>\n",
       "      <td>-1.183296</td>\n",
       "      <td>-1.679117</td>\n",
       "      <td>-0.437378</td>\n",
       "      <td>-0.837593</td>\n",
       "      <td>-2.111810</td>\n",
       "      <td>-0.020964</td>\n",
       "      <td>-0.407729</td>\n",
       "      <td>0.049755</td>\n",
       "      <td>0.517224</td>\n",
       "      <td>-1.815604</td>\n",
       "      <td>-0.294176</td>\n",
       "      <td>0.204073</td>\n",
       "      <td>-0.212456</td>\n",
       "      <td>-0.683346</td>\n",
       "      <td>-0.562432</td>\n",
       "      <td>16500.0</td>\n",
       "    </tr>\n",
       "    <tr>\n",
       "      <th>2</th>\n",
       "      <td>0.166688</td>\n",
       "      <td>0.017819</td>\n",
       "      <td>-1.183296</td>\n",
       "      <td>-0.716957</td>\n",
       "      <td>-0.245016</td>\n",
       "      <td>-0.181082</td>\n",
       "      <td>-0.609793</td>\n",
       "      <td>0.503130</td>\n",
       "      <td>1.555410</td>\n",
       "      <td>0.580721</td>\n",
       "      <td>-2.388623</td>\n",
       "      <td>0.699402</td>\n",
       "      <td>-0.294176</td>\n",
       "      <td>1.339545</td>\n",
       "      <td>-0.212456</td>\n",
       "      <td>-0.995779</td>\n",
       "      <td>-0.708860</td>\n",
       "      <td>16500.0</td>\n",
       "    </tr>\n",
       "    <tr>\n",
       "      <th>3</th>\n",
       "      <td>0.979292</td>\n",
       "      <td>1.320857</td>\n",
       "      <td>0.840763</td>\n",
       "      <td>0.147356</td>\n",
       "      <td>0.187800</td>\n",
       "      <td>0.147174</td>\n",
       "      <td>0.182938</td>\n",
       "      <td>-0.423086</td>\n",
       "      <td>-0.407729</td>\n",
       "      <td>-0.457076</td>\n",
       "      <td>-0.512697</td>\n",
       "      <td>0.476553</td>\n",
       "      <td>-0.047998</td>\n",
       "      <td>-0.033583</td>\n",
       "      <td>0.855301</td>\n",
       "      <td>-0.214697</td>\n",
       "      <td>-0.123149</td>\n",
       "      <td>13950.0</td>\n",
       "    </tr>\n",
       "    <tr>\n",
       "      <th>4</th>\n",
       "      <td>0.979292</td>\n",
       "      <td>1.320857</td>\n",
       "      <td>0.840763</td>\n",
       "      <td>0.082124</td>\n",
       "      <td>0.187800</td>\n",
       "      <td>0.240961</td>\n",
       "      <td>0.182938</td>\n",
       "      <td>0.505035</td>\n",
       "      <td>0.573840</td>\n",
       "      <td>0.194564</td>\n",
       "      <td>-0.512697</td>\n",
       "      <td>0.476553</td>\n",
       "      <td>-0.540353</td>\n",
       "      <td>0.309699</td>\n",
       "      <td>0.855301</td>\n",
       "      <td>-1.151995</td>\n",
       "      <td>-1.294570</td>\n",
       "      <td>17450.0</td>\n",
       "    </tr>\n",
       "  </tbody>\n",
       "</table>\n",
       "</div>"
      ],
      "text/plain": [
       "   symboling  normalized_losses     doors  wheel_base    length     width  \\\n",
       "0   1.791895           0.017819 -1.183296   -1.679117 -0.437378 -0.837593   \n",
       "1   1.791895           0.017819 -1.183296   -1.679117 -0.437378 -0.837593   \n",
       "2   0.166688           0.017819 -1.183296   -0.716957 -0.245016 -0.181082   \n",
       "3   0.979292           1.320857  0.840763    0.147356  0.187800  0.147174   \n",
       "4   0.979292           1.320857  0.840763    0.082124  0.187800  0.240961   \n",
       "\n",
       "     height  curb_weight  cylinders  engine_size      bore    stroke  \\\n",
       "0 -2.111810    -0.020964  -0.407729     0.049755  0.517224 -1.815604   \n",
       "1 -2.111810    -0.020964  -0.407729     0.049755  0.517224 -1.815604   \n",
       "2 -0.609793     0.503130   1.555410     0.580721 -2.388623  0.699402   \n",
       "3  0.182938    -0.423086  -0.407729    -0.457076 -0.512697  0.476553   \n",
       "4  0.182938     0.505035   0.573840     0.194564 -0.512697  0.476553   \n",
       "\n",
       "   compression_ratio  horsepower  peak_rpm  city_mpg  highway_mpg    price  \n",
       "0          -0.294176    0.204073 -0.212456 -0.683346    -0.562432  13495.0  \n",
       "1          -0.294176    0.204073 -0.212456 -0.683346    -0.562432  16500.0  \n",
       "2          -0.294176    1.339545 -0.212456 -0.995779    -0.708860  16500.0  \n",
       "3          -0.047998   -0.033583  0.855301 -0.214697    -0.123149  13950.0  \n",
       "4          -0.540353    0.309699  0.855301 -1.151995    -1.294570  17450.0  "
      ]
     },
     "execution_count": 14,
     "metadata": {},
     "output_type": "execute_result"
    }
   ],
   "source": [
    "# Now we will normalize the numeric columns, so each has equal weight in the distance function\n",
    "\n",
    "# Making a list of the numeric columns to normalize\n",
    "numeric_cols = cars.select_dtypes(exclude=['object']).columns.tolist()\n",
    "\n",
    "# Normalization equation: (value - value_mean) / value_standard_deviation \n",
    "normalized_cars = (cars[numeric_cols] - cars[numeric_cols].mean())/cars[numeric_cols].std()\n",
    "normalized_cars['price'] = cars['price']\n",
    "normalized_cars.head()"
   ]
  },
  {
   "cell_type": "markdown",
   "metadata": {},
   "source": [
    "# Simple Univariate K Nearest Neighbours Modelling\n",
    "\n",
    "We're going to start by looking at using one column at a time as a training column. We'll also start with a simple train/test split (no cross validation)."
   ]
  },
  {
   "cell_type": "code",
   "execution_count": 15,
   "metadata": {
    "collapsed": true
   },
   "outputs": [],
   "source": [
    "# We ought to randomize the order of the dataset first, so we can just cut the set in a straighforward manner later\n",
    "# while still avoiding any bias based on the order of the dataset.\n",
    "\n",
    "np.random.seed(1)\n",
    "shuf_index = np.random.permutation(normalized_cars.index)\n",
    "normalized_cars = normalized_cars.loc[shuf_index]"
   ]
  },
  {
   "cell_type": "code",
   "execution_count": 16,
   "metadata": {
    "collapsed": true
   },
   "outputs": [],
   "source": [
    "from sklearn.neighbors import KNeighborsRegressor\n",
    "from sklearn.metrics import mean_squared_error\n",
    "import math\n",
    "\n",
    "# Function to create our model.\n",
    "def knn_train_test(k,df,train_col,target_col='price'):\n",
    "    rows = df.shape[0]\n",
    "    train_set = df[0:math.floor(rows * 0.75)]\n",
    "    test_set = df[math.floor(rows * 0.75):]\n",
    "    \n",
    "    knn = KNeighborsRegressor(k,algorithm='auto')\n",
    "    knn.fit(train_set[[train_col]],train_set[target_col])\n",
    "    predictions = knn.predict(test_set[[train_col]])\n",
    "    rmse = mean_squared_error(test_set[target_col],predictions)**(1/2)\n",
    "    return rmse\n"
   ]
  },
  {
   "cell_type": "code",
   "execution_count": 26,
   "metadata": {},
   "outputs": [
    {
     "data": {
      "text/html": [
       "<div>\n",
       "<style>\n",
       "    .dataframe thead tr:only-child th {\n",
       "        text-align: right;\n",
       "    }\n",
       "\n",
       "    .dataframe thead th {\n",
       "        text-align: left;\n",
       "    }\n",
       "\n",
       "    .dataframe tbody tr th {\n",
       "        vertical-align: top;\n",
       "    }\n",
       "</style>\n",
       "<table border=\"1\" class=\"dataframe\">\n",
       "  <thead>\n",
       "    <tr style=\"text-align: right;\">\n",
       "      <th></th>\n",
       "      <th>rmse</th>\n",
       "    </tr>\n",
       "    <tr>\n",
       "      <th>column_name</th>\n",
       "      <th></th>\n",
       "    </tr>\n",
       "  </thead>\n",
       "  <tbody>\n",
       "    <tr>\n",
       "      <th>engine_size</th>\n",
       "      <td>2579.307153</td>\n",
       "    </tr>\n",
       "    <tr>\n",
       "      <th>wheel_base</th>\n",
       "      <td>2720.826870</td>\n",
       "    </tr>\n",
       "    <tr>\n",
       "      <th>length</th>\n",
       "      <td>2786.243730</td>\n",
       "    </tr>\n",
       "    <tr>\n",
       "      <th>horsepower</th>\n",
       "      <td>3101.559252</td>\n",
       "    </tr>\n",
       "    <tr>\n",
       "      <th>width</th>\n",
       "      <td>3349.996293</td>\n",
       "    </tr>\n",
       "    <tr>\n",
       "      <th>city_mpg</th>\n",
       "      <td>3585.938430</td>\n",
       "    </tr>\n",
       "  </tbody>\n",
       "</table>\n",
       "</div>"
      ],
      "text/plain": [
       "                    rmse\n",
       "column_name             \n",
       "engine_size  2579.307153\n",
       "wheel_base   2720.826870\n",
       "length       2786.243730\n",
       "horsepower   3101.559252\n",
       "width        3349.996293\n",
       "city_mpg     3585.938430"
      ]
     },
     "execution_count": 26,
     "metadata": {},
     "output_type": "execute_result"
    }
   ],
   "source": [
    "# We will call the model function on each column in the normalized dataset individually.\n",
    "cols = normalized_cars.columns.tolist()\n",
    "cols.remove('price')\n",
    "\n",
    "# We'll also iterate over a range of k values.\n",
    "kvals = [1,3,5,7,9]\n",
    "\n",
    "# We'll append results to a list\n",
    "rmses = []\n",
    "for c in cols:\n",
    "    for ks in kvals:\n",
    "        rmse = knn_train_test(ks,normalized_cars,c)\n",
    "        # Results are a tuple with column name, k value and root mean squared value\n",
    "        rmses.append((c,ks,rmse))\n",
    "\n",
    "# Converting the results to a dataframe for ease of sorting/filtering/aggregating.\n",
    "labels = ['column_name','k_value','rmse']\n",
    "results = pd.DataFrame(rmses,columns=labels)\n",
    "\n",
    "# We'll take a look at the top six columns, ranked by minimum rmse over all k values\n",
    "top_6 = results[['column_name','rmse']].groupby('column_name').agg(min).sort_values('rmse').iloc[0:6]\n",
    "top_6_names = top_6.index.tolist()\n",
    "top_6"
   ]
  },
  {
   "cell_type": "code",
   "execution_count": 31,
   "metadata": {},
   "outputs": [
    {
     "data": {
      "image/png": "[encoded data removed]",
      "text/plain": [
       "<matplotlib.figure.Figure at 0x1bf1ab765c0>"
      ]
     },
     "metadata": {},
     "output_type": "display_data"
    }
   ],
   "source": [
    "# Visualizing the top 6 columns over the range of k values.\n",
    "\n",
    "import matplotlib.pyplot as plt\n",
    "%matplotlib inline\n",
    "\n",
    "fig = plt.figure(figsize=(18, 7))\n",
    "\n",
    "for i,sp in enumerate(top_6_names):\n",
    "    ax = fig.add_subplot(2,3,i+1)\n",
    "    ax.plot(results[results['column_name']==sp]['k_value'], results[results['column_name']==sp]['rmse'], linewidth=3)\n",
    "    ax.spines[\"right\"].set_visible(False)    \n",
    "    ax.spines[\"left\"].set_visible(False)\n",
    "    ax.spines[\"top\"].set_visible(False)    \n",
    "    ax.spines[\"bottom\"].set_visible(False)\n",
    "    ax.set_xlim(0, 9)\n",
    "    ax.set_ylim(2000,6000)\n",
    "    ax.set_title(sp)\n",
    "    ax.tick_params(bottom=\"off\", top=\"off\", left=\"off\", right=\"off\")\n",
    "\n",
    "plt.show()"
   ]
  },
  {
   "cell_type": "markdown",
   "metadata": {},
   "source": [
    "# Multivariate train/test\n",
    "\n",
    "Increasing complexity by introducing multivariate models."
   ]
  },
  {
   "cell_type": "code",
   "execution_count": 32,
   "metadata": {
    "collapsed": true
   },
   "outputs": [],
   "source": [
    "# Updating the model function so it accepts list parameters for the training columns.\n",
    "\n",
    "def multi_knn_tt(k,df,train_cols,target_col='price'):\n",
    "    rows = df.shape[0]\n",
    "    train_set = df[0:math.floor(rows * 0.75)]\n",
    "    test_set = df[math.floor(rows * 0.75):]\n",
    "    \n",
    "    knn = KNeighborsRegressor(k,algorithm='auto')\n",
    "    knn.fit(train_set[train_cols],train_set[target_col])\n",
    "    predictions = knn.predict(test_set[train_cols])\n",
    "    rmse = mean_squared_error(test_set[target_col],predictions)**(1/2)\n",
    "    return rmse"
   ]
  },
  {
   "cell_type": "code",
   "execution_count": 38,
   "metadata": {},
   "outputs": [
    {
     "data": {
      "text/html": [
       "<div>\n",
       "<style>\n",
       "    .dataframe thead tr:only-child th {\n",
       "        text-align: right;\n",
       "    }\n",
       "\n",
       "    .dataframe thead th {\n",
       "        text-align: left;\n",
       "    }\n",
       "\n",
       "    .dataframe tbody tr th {\n",
       "        vertical-align: top;\n",
       "    }\n",
       "</style>\n",
       "<table border=\"1\" class=\"dataframe\">\n",
       "  <thead>\n",
       "    <tr style=\"text-align: right;\">\n",
       "      <th></th>\n",
       "      <th>rmse</th>\n",
       "    </tr>\n",
       "    <tr>\n",
       "      <th>title</th>\n",
       "      <th></th>\n",
       "    </tr>\n",
       "  </thead>\n",
       "  <tbody>\n",
       "    <tr>\n",
       "      <th>Best 5</th>\n",
       "      <td>1845.631555</td>\n",
       "    </tr>\n",
       "    <tr>\n",
       "      <th>Best 6</th>\n",
       "      <td>1942.606848</td>\n",
       "    </tr>\n",
       "    <tr>\n",
       "      <th>Best_3</th>\n",
       "      <td>2604.902741</td>\n",
       "    </tr>\n",
       "    <tr>\n",
       "      <th>Best 4</th>\n",
       "      <td>2679.970963</td>\n",
       "    </tr>\n",
       "    <tr>\n",
       "      <th>Best 2</th>\n",
       "      <td>2968.405746</td>\n",
       "    </tr>\n",
       "  </tbody>\n",
       "</table>\n",
       "</div>"
      ],
      "text/plain": [
       "               rmse\n",
       "title              \n",
       "Best 5  1845.631555\n",
       "Best 6  1942.606848\n",
       "Best_3  2604.902741\n",
       "Best 4  2679.970963\n",
       "Best 2  2968.405746"
      ]
     },
     "execution_count": 38,
     "metadata": {},
     "output_type": "execute_result"
    }
   ],
   "source": [
    "# We'll try modelling using combinations of the top performing univariate columns.\n",
    "training_column_lists = [top_6_names[0:2],top_6_names[0:3],top_6_names[0:4],top_6_names[0:5],top_6_names]\n",
    "titles = ['Best 2','Best_3','Best 4','Best 5','Best 6']\n",
    "\n",
    "# New set of kvals to test over\n",
    "kvals = [x for x in range(1,25)]\n",
    "\n",
    "# We'll append results to a list\n",
    "multi_rmses = []\n",
    "for i,c in enumerate(training_column_lists):\n",
    "    # kvals still defined from earlier\n",
    "    for ks in kvals:\n",
    "        rmse = multi_knn_tt(ks,normalized_cars,c)\n",
    "        # Results are a tuple with column name, k value and root mean squared value\n",
    "        multi_rmses.append((titles[i],ks,rmse))\n",
    "\n",
    "# Converting the results to a dataframe for ease of sorting/filtering/aggregating.\n",
    "labels = ['title','k_value','rmse']\n",
    "multi_results = pd.DataFrame(multi_rmses,columns=labels)\n",
    "\n",
    "multi_results[['title','rmse']].groupby('title').agg(min).sort_values('rmse').iloc[0:6]"
   ]
  },
  {
   "cell_type": "code",
   "execution_count": 41,
   "metadata": {},
   "outputs": [
    {
     "data": {
      "image/png": "[encoded data removed]",
      "text/plain": [
       "<matplotlib.figure.Figure at 0x1bf1a95afd0>"
      ]
     },
     "metadata": {},
     "output_type": "display_data"
    }
   ],
   "source": [
    "fig = plt.figure(figsize=(18, 7))\n",
    "\n",
    "for i,sp in enumerate(titles):\n",
    "    ax = fig.add_subplot(2,3,i+1)\n",
    "    ax.plot(multi_results[multi_results['title']==sp]['k_value'], multi_results[multi_results['title']==sp]['rmse'], linewidth=3)\n",
    "    ax.spines[\"right\"].set_visible(False)    \n",
    "    ax.spines[\"left\"].set_visible(False)\n",
    "    ax.spines[\"top\"].set_visible(False)    \n",
    "    ax.spines[\"bottom\"].set_visible(False)\n",
    "    ax.set_xlim(0, 25)\n",
    "    ax.set_ylim(0,5000)\n",
    "    ax.set_title(sp)\n",
    "    ax.tick_params(bottom=\"off\", top=\"off\", left=\"off\", right=\"off\")\n",
    "\n",
    "plt.show()"
   ]
  },
  {
   "cell_type": "markdown",
   "metadata": {},
   "source": [
    "The best performing models we have so far are those using the best 5 and best 6 performing columns under univariate conditions. These are (in order): engine_size, wheel_base, length, horsepower, width and lastly city_mpg.\n",
    "Interestingly, both these models performed best with only 1 nearest neighbour."
   ]
  },
  {
   "cell_type": "code",
   "execution_count": null,
   "metadata": {
    "collapsed": true
   },
   "outputs": [],
   "source": [
    "# Next steps:\n",
    "# Adjust method to use cross validation."
   ]
  }
 ],
 "metadata": {
  "kernelspec": {
   "display_name": "Python 3",
   "language": "python",
   "name": "python3"
  },
  "language_info": {
   "codemirror_mode": {
    "name": "ipython",
    "version": 3
   },
   "file_extension": ".py",
   "mimetype": "text/x-python",
   "name": "python",
   "nbconvert_exporter": "python",
   "pygments_lexer": "ipython3",
   "version": "3.6.1"
  }
 },
 "nbformat": 4,
 "nbformat_minor": 2
}
