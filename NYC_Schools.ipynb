{
 "cells": [
  {
   "cell_type": "markdown",
   "metadata": {},
   "source": [
    "This project is principally an example of cleaning and combining data into a single dataset for analysis. We'll be looking at school and demographic data for new york city, and particularly at SAT scores for various schools. All the data we use is available on the city of new york open access website. You can get to the individual pages by take the API addresses in the first step here, and removing the .json suffix. This data can be accessed anonymously, but the API suggests using a token, which can be generated through the same links. If you don't want to generate a token, remove the headers parameter from the requests.get command.\n",
    "\n",
    "There are a number of data exploration steps removed here to make the process flow a little cleaner. One of the important things that was discovered right at the beginning of the data discovery process is that each file has a key (or the required items to construct a unique key) which uniquely identifies each school, called the dbn (district borough number). Most datasets are unique on this key, though some will require some processing to get them unique on this key.\n",
    "\n",
    "# Read in the data"
   ]
  },
  {
   "cell_type": "code",
   "execution_count": 1,
   "metadata": {
    "collapsed": true
   },
   "outputs": [],
   "source": [
    "import requests\n",
    "import pandas as pd\n",
    "import numpy\n",
    "\n",
    "# Token supplied in header. Redacted here.\n",
    "headers = {'X-App-Token': 'V7z166ljThtXo1EpzmeSbdvvZ'}\n",
    "\n",
    "# We'll pick the data from the API's of the original source.\n",
    "# Limit parameter required because default of api is to return only 1000 rows.\n",
    "data_files = [\n",
    "    \"https://data.cityofnewyork.us/resource/sg2c-qbjf.json?$limit=30000\",\n",
    "    \"https://data.cityofnewyork.us/resource/qgts-mthv.json?$limit=30000\",\n",
    "    \"https://data.cityofnewyork.us/resource/tvf6-bvfe.json?$limit=30000\",\n",
    "    \"https://data.cityofnewyork.us/resource/ns8x-c6af.json?$limit=30000\",\n",
    "    \"https://data.cityofnewyork.us/resource/2u2u-zka4.json?$limit=30000\",\n",
    "    \"https://data.cityofnewyork.us/resource/734v-jeq5.json?$limit=30000\"\n",
    "]\n",
    "# Names for the individual datasets (same order as above)\n",
    "data_names = [\n",
    "    \"ap_2010\",\n",
    "    \"class_size\",\n",
    "    \"demographics\",\n",
    "    \"graduation\",\n",
    "    \"hs_directory\",\n",
    "    \"sat_results\"\n",
    "]\n",
    "\n",
    "# Storing the datasets in a dictionary\n",
    "data = {}\n",
    "\n",
    "for i,f in enumerate(data_files):\n",
    "    # Get the data and convert to dataframes\n",
    "    response = requests.get(f,headers=headers)\n",
    "    d = pd.DataFrame(response.json())\n",
    "    data[data_names[i]] = d"
   ]
  },
  {
   "cell_type": "markdown",
   "metadata": {},
   "source": [
    "We have some survey data files that we want to include as well. These aren't available through an API, but can be downloaded as csv files from: https://data.cityofnewyork.us/Education/NYC-School-Survey-2011/mnz3-dyi8\n",
    "\n",
    "# Read in the surveys"
   ]
  },
  {
   "cell_type": "code",
   "execution_count": 2,
   "metadata": {
    "collapsed": true
   },
   "outputs": [],
   "source": [
    "all_survey = pd.read_csv(\"C:\\\\Users\\\\User\\\\Documents\\\\Python projects\\\\Shared\\\\masterfile11_gened_final.txt\", delimiter=\"\\t\", encoding='windows-1252')\n",
    "d75_survey = pd.read_csv(\"C:\\\\Users\\\\User\\\\Documents\\\\Python projects\\\\Shared\\\\masterfile11_d75_final.txt\", delimiter=\"\\t\", encoding='windows-1252')\n",
    "\n",
    "# Merge the two survey files into a single dataset\n",
    "survey = pd.concat([all_survey, d75_survey], axis=0)\n",
    "\n",
    "# We are only really interested in a subset of fields here, so we'll trim down this dataset a bit.\n",
    "# The definitions for these fields are available in the data dictionary file in the zip download from the above link.\n",
    "survey_fields = [\n",
    "    \"dbn\", \n",
    "    \"rr_s\", \n",
    "    \"rr_t\", \n",
    "    \"rr_p\", \n",
    "    \"N_s\", \n",
    "    \"N_t\", \n",
    "    \"N_p\", \n",
    "    \"saf_p_11\", \n",
    "    \"com_p_11\", \n",
    "    \"eng_p_11\", \n",
    "    \"aca_p_11\", \n",
    "    \"saf_t_11\", \n",
    "    \"com_t_11\", \n",
    "    \"eng_t_10\", \n",
    "    \"aca_t_11\", \n",
    "    \"saf_s_11\", \n",
    "    \"com_s_11\", \n",
    "    \"eng_s_11\", \n",
    "    \"aca_s_11\", \n",
    "    \"saf_tot_11\", \n",
    "    \"com_tot_11\", \n",
    "    \"eng_tot_11\", \n",
    "    \"aca_tot_11\",\n",
    "]\n",
    "survey = survey.loc[:,survey_fields]\n",
    "\n",
    "# Add the survey to the dictionary of datasets\n",
    "data[\"survey\"] = survey"
   ]
  },
  {
   "cell_type": "code",
   "execution_count": 3,
   "metadata": {},
   "outputs": [
    {
     "data": {
      "text/html": [
       "<div>\n",
       "<style>\n",
       "    .dataframe thead tr:only-child th {\n",
       "        text-align: right;\n",
       "    }\n",
       "\n",
       "    .dataframe thead th {\n",
       "        text-align: left;\n",
       "    }\n",
       "\n",
       "    .dataframe tbody tr th {\n",
       "        vertical-align: top;\n",
       "    }\n",
       "</style>\n",
       "<table border=\"1\" class=\"dataframe\">\n",
       "  <thead>\n",
       "    <tr style=\"text-align: right;\">\n",
       "      <th></th>\n",
       "      <th>dbn</th>\n",
       "      <th>rr_s</th>\n",
       "      <th>rr_t</th>\n",
       "      <th>rr_p</th>\n",
       "      <th>N_s</th>\n",
       "      <th>N_t</th>\n",
       "      <th>N_p</th>\n",
       "      <th>saf_p_11</th>\n",
       "      <th>com_p_11</th>\n",
       "      <th>eng_p_11</th>\n",
       "      <th>...</th>\n",
       "      <th>eng_t_10</th>\n",
       "      <th>aca_t_11</th>\n",
       "      <th>saf_s_11</th>\n",
       "      <th>com_s_11</th>\n",
       "      <th>eng_s_11</th>\n",
       "      <th>aca_s_11</th>\n",
       "      <th>saf_tot_11</th>\n",
       "      <th>com_tot_11</th>\n",
       "      <th>eng_tot_11</th>\n",
       "      <th>aca_tot_11</th>\n",
       "    </tr>\n",
       "  </thead>\n",
       "  <tbody>\n",
       "    <tr>\n",
       "      <th>0</th>\n",
       "      <td>01M015</td>\n",
       "      <td>NaN</td>\n",
       "      <td>88</td>\n",
       "      <td>60</td>\n",
       "      <td>NaN</td>\n",
       "      <td>22.0</td>\n",
       "      <td>90.0</td>\n",
       "      <td>8.5</td>\n",
       "      <td>7.6</td>\n",
       "      <td>7.5</td>\n",
       "      <td>...</td>\n",
       "      <td>NaN</td>\n",
       "      <td>7.9</td>\n",
       "      <td>NaN</td>\n",
       "      <td>NaN</td>\n",
       "      <td>NaN</td>\n",
       "      <td>NaN</td>\n",
       "      <td>8.0</td>\n",
       "      <td>7.7</td>\n",
       "      <td>7.5</td>\n",
       "      <td>7.9</td>\n",
       "    </tr>\n",
       "    <tr>\n",
       "      <th>1</th>\n",
       "      <td>01M019</td>\n",
       "      <td>NaN</td>\n",
       "      <td>100</td>\n",
       "      <td>60</td>\n",
       "      <td>NaN</td>\n",
       "      <td>34.0</td>\n",
       "      <td>161.0</td>\n",
       "      <td>8.4</td>\n",
       "      <td>7.6</td>\n",
       "      <td>7.6</td>\n",
       "      <td>...</td>\n",
       "      <td>NaN</td>\n",
       "      <td>9.1</td>\n",
       "      <td>NaN</td>\n",
       "      <td>NaN</td>\n",
       "      <td>NaN</td>\n",
       "      <td>NaN</td>\n",
       "      <td>8.5</td>\n",
       "      <td>8.1</td>\n",
       "      <td>8.2</td>\n",
       "      <td>8.4</td>\n",
       "    </tr>\n",
       "    <tr>\n",
       "      <th>2</th>\n",
       "      <td>01M020</td>\n",
       "      <td>NaN</td>\n",
       "      <td>88</td>\n",
       "      <td>73</td>\n",
       "      <td>NaN</td>\n",
       "      <td>42.0</td>\n",
       "      <td>367.0</td>\n",
       "      <td>8.9</td>\n",
       "      <td>8.3</td>\n",
       "      <td>8.3</td>\n",
       "      <td>...</td>\n",
       "      <td>NaN</td>\n",
       "      <td>7.5</td>\n",
       "      <td>NaN</td>\n",
       "      <td>NaN</td>\n",
       "      <td>NaN</td>\n",
       "      <td>NaN</td>\n",
       "      <td>8.2</td>\n",
       "      <td>7.3</td>\n",
       "      <td>7.5</td>\n",
       "      <td>8.0</td>\n",
       "    </tr>\n",
       "    <tr>\n",
       "      <th>3</th>\n",
       "      <td>01M034</td>\n",
       "      <td>89.0</td>\n",
       "      <td>73</td>\n",
       "      <td>50</td>\n",
       "      <td>145.0</td>\n",
       "      <td>29.0</td>\n",
       "      <td>151.0</td>\n",
       "      <td>8.8</td>\n",
       "      <td>8.2</td>\n",
       "      <td>8.0</td>\n",
       "      <td>...</td>\n",
       "      <td>NaN</td>\n",
       "      <td>7.8</td>\n",
       "      <td>6.2</td>\n",
       "      <td>5.9</td>\n",
       "      <td>6.5</td>\n",
       "      <td>7.4</td>\n",
       "      <td>7.3</td>\n",
       "      <td>6.7</td>\n",
       "      <td>7.1</td>\n",
       "      <td>7.9</td>\n",
       "    </tr>\n",
       "    <tr>\n",
       "      <th>4</th>\n",
       "      <td>01M063</td>\n",
       "      <td>NaN</td>\n",
       "      <td>100</td>\n",
       "      <td>60</td>\n",
       "      <td>NaN</td>\n",
       "      <td>23.0</td>\n",
       "      <td>90.0</td>\n",
       "      <td>8.7</td>\n",
       "      <td>7.9</td>\n",
       "      <td>8.1</td>\n",
       "      <td>...</td>\n",
       "      <td>NaN</td>\n",
       "      <td>8.1</td>\n",
       "      <td>NaN</td>\n",
       "      <td>NaN</td>\n",
       "      <td>NaN</td>\n",
       "      <td>NaN</td>\n",
       "      <td>8.5</td>\n",
       "      <td>7.6</td>\n",
       "      <td>7.9</td>\n",
       "      <td>8.0</td>\n",
       "    </tr>\n",
       "  </tbody>\n",
       "</table>\n",
       "<p>5 rows × 23 columns</p>\n",
       "</div>"
      ],
      "text/plain": [
       "      dbn  rr_s  rr_t  rr_p    N_s   N_t    N_p  saf_p_11  com_p_11  eng_p_11  \\\n",
       "0  01M015   NaN    88    60    NaN  22.0   90.0       8.5       7.6       7.5   \n",
       "1  01M019   NaN   100    60    NaN  34.0  161.0       8.4       7.6       7.6   \n",
       "2  01M020   NaN    88    73    NaN  42.0  367.0       8.9       8.3       8.3   \n",
       "3  01M034  89.0    73    50  145.0  29.0  151.0       8.8       8.2       8.0   \n",
       "4  01M063   NaN   100    60    NaN  23.0   90.0       8.7       7.9       8.1   \n",
       "\n",
       "      ...      eng_t_10  aca_t_11  saf_s_11  com_s_11  eng_s_11  aca_s_11  \\\n",
       "0     ...           NaN       7.9       NaN       NaN       NaN       NaN   \n",
       "1     ...           NaN       9.1       NaN       NaN       NaN       NaN   \n",
       "2     ...           NaN       7.5       NaN       NaN       NaN       NaN   \n",
       "3     ...           NaN       7.8       6.2       5.9       6.5       7.4   \n",
       "4     ...           NaN       8.1       NaN       NaN       NaN       NaN   \n",
       "\n",
       "   saf_tot_11  com_tot_11  eng_tot_11  aca_tot_11  \n",
       "0         8.0         7.7         7.5         7.9  \n",
       "1         8.5         8.1         8.2         8.4  \n",
       "2         8.2         7.3         7.5         8.0  \n",
       "3         7.3         6.7         7.1         7.9  \n",
       "4         8.5         7.6         7.9         8.0  \n",
       "\n",
       "[5 rows x 23 columns]"
      ]
     },
     "execution_count": 3,
     "metadata": {},
     "output_type": "execute_result"
    }
   ],
   "source": [
    "data['survey'].head()"
   ]
  },
  {
   "cell_type": "markdown",
   "metadata": {},
   "source": [
    "# Add dbn column\n",
    "We need create a dbn column to use as a join key in the class size dataset."
   ]
  },
  {
   "cell_type": "code",
   "execution_count": 4,
   "metadata": {
    "collapsed": true
   },
   "outputs": [],
   "source": [
    "# Class size has no DBN field, but it does have csd and school codes which can be combined to make DBN.\n",
    "# It's necessary that csd be two characters, padded with a zero if it is currently just a one digit number.\n",
    "\n",
    "# Funciton to make a padded string from number\n",
    "def pad_csd(num):\n",
    "    string_representation = str(num)\n",
    "    if len(string_representation) > 1:\n",
    "        return string_representation\n",
    "    else:\n",
    "        return \"0\" + string_representation\n",
    "\n",
    "# Apply the function to create a padded column, then create a DBN column with a simple vectorized concatenation.\n",
    "data[\"class_size\"][\"padded_csd\"] = data[\"class_size\"][\"csd\"].apply(pad_csd)\n",
    "data[\"class_size\"][\"dbn\"] = data[\"class_size\"][\"padded_csd\"] + data[\"class_size\"][\"school_code\"]"
   ]
  },
  {
   "cell_type": "markdown",
   "metadata": {},
   "source": [
    "# Convert columns to numeric\n",
    "There are lots of fields in the various datasets that we are going to want to aggregate on or perform correlation calculations with, so we need to change their type to numeric. Additionally, we want the latitude and longitude fields in the directory to be numeric so we can plug them into our plotter for maps."
   ]
  },
  {
   "cell_type": "code",
   "execution_count": 5,
   "metadata": {
    "collapsed": true
   },
   "outputs": [],
   "source": [
    "# SAT result columns first\n",
    "cols = ['sat_math_avg_score', 'sat_critical_reading_avg_score', 'sat_writing_avg_score']\n",
    "for c in cols:\n",
    "    # Convert to numeric. Coerce replaces errors with NaN.\n",
    "    data[\"sat_results\"][c] = pd.to_numeric(data[\"sat_results\"][c], errors=\"coerce\")\n",
    "\n",
    "# The overall sat score is the sum of the scores for the three core subjects.\n",
    "data['sat_results']['sat_score'] = data['sat_results'][cols[0]] + data['sat_results'][cols[1]] + data['sat_results'][cols[2]]\n",
    "\n",
    "# Next the latitude and longitude columns. We need to start by parsing the lat and longitudes from the location columns.\n",
    "# We'll use functions to pick the right value from the location_1 dictionary.\n",
    "def find_lat(location):\n",
    "    return location['coordinates'][0]\n",
    "\n",
    "def find_lon(location):\n",
    "    return location['coordinates'][0]\n",
    "\n",
    "data[\"hs_directory\"][\"lat\"] = data[\"hs_directory\"][\"location_1\"].apply(find_lat)\n",
    "data[\"hs_directory\"][\"lon\"] = data[\"hs_directory\"][\"location_1\"].apply(find_lon)\n",
    "\n",
    "# And then convert these two columns to numerics\n",
    "data[\"hs_directory\"][\"lat\"] = pd.to_numeric(data[\"hs_directory\"][\"lat\"], errors=\"coerce\")\n",
    "data[\"hs_directory\"][\"lon\"] = pd.to_numeric(data[\"hs_directory\"][\"lon\"], errors=\"coerce\")\n",
    "\n",
    "# For class size, we're going to want to look at average class size and how that correlates\n",
    "data['class_size']['average_class_size'] = pd.to_numeric(data['class_size']['average_class_size'], errors=\"coerce\")\n",
    "\n",
    "# In the AP scores set, we're going to want to aggregate on a few columns\n",
    "cols = ['ap_test_takers_', 'total_exams_taken', 'number_of_exams_with_scores_3_4_or_5']\n",
    "for col in cols:\n",
    "    data[\"ap_2010\"][col] = pd.to_numeric(data[\"ap_2010\"][col], errors=\"coerce\")"
   ]
  },
  {
   "cell_type": "code",
   "execution_count": 7,
   "metadata": {},
   "outputs": [
    {
     "data": {
      "text/plain": [
       "asian_num              int64\n",
       "asian_per            float64\n",
       "black_num              int64\n",
       "black_per            float64\n",
       "ctt_num               object\n",
       "dbn                   object\n",
       "ell_num               object\n",
       "ell_percent          float64\n",
       "female_num           float64\n",
       "female_per           float64\n",
       "fl_percent            object\n",
       "frl_percent          float64\n",
       "grade1                object\n",
       "grade10               object\n",
       "grade11               object\n",
       "grade12               object\n",
       "grade2                object\n",
       "grade3                object\n",
       "grade4                object\n",
       "grade5                object\n",
       "grade6                object\n",
       "grade7                object\n",
       "grade8                object\n",
       "grade9                object\n",
       "hispanic_num           int64\n",
       "hispanic_per         float64\n",
       "k                     object\n",
       "male_num             float64\n",
       "male_per             float64\n",
       "name                  object\n",
       "prek                  object\n",
       "schoolyear             int64\n",
       "selfcontained_num     object\n",
       "sped_num             float64\n",
       "sped_percent         float64\n",
       "total_enrollment       int64\n",
       "white_num              int64\n",
       "white_per            float64\n",
       "dtype: object"
      ]
     },
     "execution_count": 7,
     "metadata": {},
     "output_type": "execute_result"
    }
   ],
   "source": [
    "# A slightly different strategy for the demographics dataset, as there are quite a few columns I'm likely to want to test.\n",
    "cols = data['demographics'].columns.tolist()\n",
    "for c in cols:\n",
    "    try:\n",
    "        data['demographics'][c] = pd.to_numeric(data['demographics'][c], errors=\"raise\")\n",
    "    except:\n",
    "        pass\n",
    "    \n",
    "data['demographics'].dtypes"
   ]
  },
  {
   "cell_type": "markdown",
   "metadata": {},
   "source": [
    "# Condense datasets\n",
    "Some datasets contain more data than we need or want, so we're going to cut a few of them down a bit. Additionally, some aren't unique on dbn, so we will address that issue before merging the data."
   ]
  },
  {
   "cell_type": "code",
   "execution_count": 9,
   "metadata": {},
   "outputs": [
    {
     "data": {
      "text/html": [
       "<div>\n",
       "<style>\n",
       "    .dataframe thead tr:only-child th {\n",
       "        text-align: right;\n",
       "    }\n",
       "\n",
       "    .dataframe thead th {\n",
       "        text-align: left;\n",
       "    }\n",
       "\n",
       "    .dataframe tbody tr th {\n",
       "        vertical-align: top;\n",
       "    }\n",
       "</style>\n",
       "<table border=\"1\" class=\"dataframe\">\n",
       "  <thead>\n",
       "    <tr style=\"text-align: right;\">\n",
       "      <th></th>\n",
       "      <th>average_class_size</th>\n",
       "      <th>borough</th>\n",
       "      <th>core_course_ms_core_and_9_12_only_</th>\n",
       "      <th>core_subject_ms_core_and_9_12_only_</th>\n",
       "      <th>csd</th>\n",
       "      <th>data_source</th>\n",
       "      <th>grade_</th>\n",
       "      <th>number_of_sections</th>\n",
       "      <th>number_of_students_seats_filled</th>\n",
       "      <th>program_type</th>\n",
       "      <th>school_code</th>\n",
       "      <th>school_name</th>\n",
       "      <th>schoolwide_pupil_teacher_ratio</th>\n",
       "      <th>service_category_k_9_only_</th>\n",
       "      <th>size_of_largest_class</th>\n",
       "      <th>size_of_smallest_class</th>\n",
       "      <th>padded_csd</th>\n",
       "      <th>dbn</th>\n",
       "    </tr>\n",
       "  </thead>\n",
       "  <tbody>\n",
       "    <tr>\n",
       "      <th>0</th>\n",
       "      <td>19.0</td>\n",
       "      <td>M</td>\n",
       "      <td>-</td>\n",
       "      <td>-</td>\n",
       "      <td>1</td>\n",
       "      <td>ATS</td>\n",
       "      <td>0K</td>\n",
       "      <td>1</td>\n",
       "      <td>19</td>\n",
       "      <td>GEN ED</td>\n",
       "      <td>M015</td>\n",
       "      <td>P.S. 015 Roberto Clemente</td>\n",
       "      <td>NaN</td>\n",
       "      <td>-</td>\n",
       "      <td>19</td>\n",
       "      <td>19</td>\n",
       "      <td>01</td>\n",
       "      <td>01M015</td>\n",
       "    </tr>\n",
       "    <tr>\n",
       "      <th>1</th>\n",
       "      <td>21.0</td>\n",
       "      <td>M</td>\n",
       "      <td>-</td>\n",
       "      <td>-</td>\n",
       "      <td>1</td>\n",
       "      <td>ATS</td>\n",
       "      <td>0K</td>\n",
       "      <td>1</td>\n",
       "      <td>21</td>\n",
       "      <td>CTT</td>\n",
       "      <td>M015</td>\n",
       "      <td>P.S. 015 Roberto Clemente</td>\n",
       "      <td>NaN</td>\n",
       "      <td>-</td>\n",
       "      <td>21</td>\n",
       "      <td>21</td>\n",
       "      <td>01</td>\n",
       "      <td>01M015</td>\n",
       "    </tr>\n",
       "    <tr>\n",
       "      <th>2</th>\n",
       "      <td>17.0</td>\n",
       "      <td>M</td>\n",
       "      <td>-</td>\n",
       "      <td>-</td>\n",
       "      <td>1</td>\n",
       "      <td>ATS</td>\n",
       "      <td>01</td>\n",
       "      <td>1</td>\n",
       "      <td>17</td>\n",
       "      <td>GEN ED</td>\n",
       "      <td>M015</td>\n",
       "      <td>P.S. 015 Roberto Clemente</td>\n",
       "      <td>NaN</td>\n",
       "      <td>-</td>\n",
       "      <td>17</td>\n",
       "      <td>17</td>\n",
       "      <td>01</td>\n",
       "      <td>01M015</td>\n",
       "    </tr>\n",
       "    <tr>\n",
       "      <th>3</th>\n",
       "      <td>17.0</td>\n",
       "      <td>M</td>\n",
       "      <td>-</td>\n",
       "      <td>-</td>\n",
       "      <td>1</td>\n",
       "      <td>ATS</td>\n",
       "      <td>01</td>\n",
       "      <td>1</td>\n",
       "      <td>17</td>\n",
       "      <td>CTT</td>\n",
       "      <td>M015</td>\n",
       "      <td>P.S. 015 Roberto Clemente</td>\n",
       "      <td>NaN</td>\n",
       "      <td>-</td>\n",
       "      <td>17</td>\n",
       "      <td>17</td>\n",
       "      <td>01</td>\n",
       "      <td>01M015</td>\n",
       "    </tr>\n",
       "    <tr>\n",
       "      <th>4</th>\n",
       "      <td>15.0</td>\n",
       "      <td>M</td>\n",
       "      <td>-</td>\n",
       "      <td>-</td>\n",
       "      <td>1</td>\n",
       "      <td>ATS</td>\n",
       "      <td>02</td>\n",
       "      <td>1</td>\n",
       "      <td>15</td>\n",
       "      <td>GEN ED</td>\n",
       "      <td>M015</td>\n",
       "      <td>P.S. 015 Roberto Clemente</td>\n",
       "      <td>NaN</td>\n",
       "      <td>-</td>\n",
       "      <td>15</td>\n",
       "      <td>15</td>\n",
       "      <td>01</td>\n",
       "      <td>01M015</td>\n",
       "    </tr>\n",
       "  </tbody>\n",
       "</table>\n",
       "</div>"
      ],
      "text/plain": [
       "   average_class_size borough core_course_ms_core_and_9_12_only_  \\\n",
       "0                19.0       M                                  -   \n",
       "1                21.0       M                                  -   \n",
       "2                17.0       M                                  -   \n",
       "3                17.0       M                                  -   \n",
       "4                15.0       M                                  -   \n",
       "\n",
       "  core_subject_ms_core_and_9_12_only_ csd data_source grade_  \\\n",
       "0                                   -   1         ATS     0K   \n",
       "1                                   -   1         ATS     0K   \n",
       "2                                   -   1         ATS     01   \n",
       "3                                   -   1         ATS     01   \n",
       "4                                   -   1         ATS     02   \n",
       "\n",
       "  number_of_sections number_of_students_seats_filled program_type school_code  \\\n",
       "0                  1                              19       GEN ED        M015   \n",
       "1                  1                              21          CTT        M015   \n",
       "2                  1                              17       GEN ED        M015   \n",
       "3                  1                              17          CTT        M015   \n",
       "4                  1                              15       GEN ED        M015   \n",
       "\n",
       "                 school_name schoolwide_pupil_teacher_ratio  \\\n",
       "0  P.S. 015 Roberto Clemente                            NaN   \n",
       "1  P.S. 015 Roberto Clemente                            NaN   \n",
       "2  P.S. 015 Roberto Clemente                            NaN   \n",
       "3  P.S. 015 Roberto Clemente                            NaN   \n",
       "4  P.S. 015 Roberto Clemente                            NaN   \n",
       "\n",
       "  service_category_k_9_only_ size_of_largest_class size_of_smallest_class  \\\n",
       "0                          -                    19                     19   \n",
       "1                          -                    21                     21   \n",
       "2                          -                    17                     17   \n",
       "3                          -                    17                     17   \n",
       "4                          -                    15                     15   \n",
       "\n",
       "  padded_csd     dbn  \n",
       "0         01  01M015  \n",
       "1         01  01M015  \n",
       "2         01  01M015  \n",
       "3         01  01M015  \n",
       "4         01  01M015  "
      ]
     },
     "execution_count": 9,
     "metadata": {},
     "output_type": "execute_result"
    }
   ],
   "source": [
    "data['class_size'].head()"
   ]
  },
  {
   "cell_type": "code",
   "execution_count": 10,
   "metadata": {
    "collapsed": true
   },
   "outputs": [],
   "source": [
    "# SATs are taken by high schoolers (grade 9 - 12). Class size contains info for all ages, so we'll start by filtering this a bit. \n",
    "class_size = data[\"class_size\"]\n",
    "class_size = class_size[class_size[\"grade_\"] == \"09-12\"]\n",
    "\n",
    "# Class size isn't unique on DBN yet. Program type has multiple values: GEN ED, SPEC ED, CTT and G&T. We'll stick just to general education.\n",
    "class_size = class_size[class_size[\"program_type\"] == \"GEN ED\"]\n",
    "\n",
    "# Nearly there. The remaining problem columns, causing dbn to be non-unique, are core_course and core_subject.\n",
    "# We are interested in the overall SAT score and therefore want the general measure of class size for a given score.\n",
    "# Averaging the subject specific class sizes seems like the best way we can represent school level class size.\n",
    "class_size = class_size.groupby(\"dbn\").agg(numpy.mean)\n",
    "\n",
    "# Reset the index and assign the dataset back to the dictionary.\n",
    "class_size.reset_index(inplace=True)\n",
    "data[\"class_size\"] = class_size"
   ]
  },
  {
   "cell_type": "code",
   "execution_count": 11,
   "metadata": {},
   "outputs": [
    {
     "data": {
      "text/html": [
       "<div>\n",
       "<style>\n",
       "    .dataframe thead tr:only-child th {\n",
       "        text-align: right;\n",
       "    }\n",
       "\n",
       "    .dataframe thead th {\n",
       "        text-align: left;\n",
       "    }\n",
       "\n",
       "    .dataframe tbody tr th {\n",
       "        vertical-align: top;\n",
       "    }\n",
       "</style>\n",
       "<table border=\"1\" class=\"dataframe\">\n",
       "  <thead>\n",
       "    <tr style=\"text-align: right;\">\n",
       "      <th></th>\n",
       "      <th>dbn</th>\n",
       "      <th>average_class_size</th>\n",
       "    </tr>\n",
       "  </thead>\n",
       "  <tbody>\n",
       "    <tr>\n",
       "      <th>0</th>\n",
       "      <td>01M292</td>\n",
       "      <td>22.564286</td>\n",
       "    </tr>\n",
       "    <tr>\n",
       "      <th>1</th>\n",
       "      <td>01M332</td>\n",
       "      <td>22.000000</td>\n",
       "    </tr>\n",
       "    <tr>\n",
       "      <th>2</th>\n",
       "      <td>01M378</td>\n",
       "      <td>33.000000</td>\n",
       "    </tr>\n",
       "    <tr>\n",
       "      <th>3</th>\n",
       "      <td>01M448</td>\n",
       "      <td>22.231250</td>\n",
       "    </tr>\n",
       "    <tr>\n",
       "      <th>4</th>\n",
       "      <td>01M450</td>\n",
       "      <td>21.200000</td>\n",
       "    </tr>\n",
       "  </tbody>\n",
       "</table>\n",
       "</div>"
      ],
      "text/plain": [
       "      dbn  average_class_size\n",
       "0  01M292           22.564286\n",
       "1  01M332           22.000000\n",
       "2  01M378           33.000000\n",
       "3  01M448           22.231250\n",
       "4  01M450           21.200000"
      ]
     },
     "execution_count": 11,
     "metadata": {},
     "output_type": "execute_result"
    }
   ],
   "source": [
    "data['class_size'].head()"
   ]
  },
  {
   "cell_type": "code",
   "execution_count": 13,
   "metadata": {},
   "outputs": [],
   "source": [
    "# The demographics dataset contains information for several school years. Our survey data relates on to 2011/2012, so we'll filter this to the same.\n",
    "data[\"demographics\"] = data[\"demographics\"][data[\"demographics\"][\"schoolyear\"] == 20112012]"
   ]
  },
  {
   "cell_type": "code",
   "execution_count": 14,
   "metadata": {},
   "outputs": [
    {
     "data": {
      "text/html": [
       "<div>\n",
       "<style>\n",
       "    .dataframe thead tr:only-child th {\n",
       "        text-align: right;\n",
       "    }\n",
       "\n",
       "    .dataframe thead th {\n",
       "        text-align: left;\n",
       "    }\n",
       "\n",
       "    .dataframe tbody tr th {\n",
       "        vertical-align: top;\n",
       "    }\n",
       "</style>\n",
       "<table border=\"1\" class=\"dataframe\">\n",
       "  <thead>\n",
       "    <tr style=\"text-align: right;\">\n",
       "      <th></th>\n",
       "      <th>advanced_regents_n</th>\n",
       "      <th>advanced_regents_of_cohort</th>\n",
       "      <th>advanced_regents_of_grads</th>\n",
       "      <th>cohort</th>\n",
       "      <th>dbn</th>\n",
       "      <th>demographic</th>\n",
       "      <th>dropped_out_n</th>\n",
       "      <th>dropped_out_of_cohort</th>\n",
       "      <th>local_n</th>\n",
       "      <th>local_of_cohort</th>\n",
       "      <th>...</th>\n",
       "      <th>regents_w_o_advanced_of_grads</th>\n",
       "      <th>school_name</th>\n",
       "      <th>still_enrolled_n</th>\n",
       "      <th>still_enrolled_of_cohort</th>\n",
       "      <th>total_cohort</th>\n",
       "      <th>total_grads_n</th>\n",
       "      <th>total_grads_of_cohort</th>\n",
       "      <th>total_regents_n</th>\n",
       "      <th>total_regents_of_cohort</th>\n",
       "      <th>total_regents_of_grads</th>\n",
       "    </tr>\n",
       "  </thead>\n",
       "  <tbody>\n",
       "    <tr>\n",
       "      <th>0</th>\n",
       "      <td>s</td>\n",
       "      <td>NaN</td>\n",
       "      <td>NaN</td>\n",
       "      <td>2003</td>\n",
       "      <td>01M292</td>\n",
       "      <td>Total Cohort</td>\n",
       "      <td>s</td>\n",
       "      <td>NaN</td>\n",
       "      <td>s</td>\n",
       "      <td>NaN</td>\n",
       "      <td>...</td>\n",
       "      <td>NaN</td>\n",
       "      <td>HENRY STREET SCHOOL FOR INTERNATIONAL</td>\n",
       "      <td>s</td>\n",
       "      <td>NaN</td>\n",
       "      <td>5</td>\n",
       "      <td>s</td>\n",
       "      <td>NaN</td>\n",
       "      <td>s</td>\n",
       "      <td>NaN</td>\n",
       "      <td>NaN</td>\n",
       "    </tr>\n",
       "    <tr>\n",
       "      <th>1</th>\n",
       "      <td>0</td>\n",
       "      <td>0</td>\n",
       "      <td>0</td>\n",
       "      <td>2004</td>\n",
       "      <td>01M292</td>\n",
       "      <td>Total Cohort</td>\n",
       "      <td>3</td>\n",
       "      <td>0.055</td>\n",
       "      <td>20</td>\n",
       "      <td>0.364</td>\n",
       "      <td>...</td>\n",
       "      <td>0.459</td>\n",
       "      <td>HENRY STREET SCHOOL FOR INTERNATIONAL</td>\n",
       "      <td>15</td>\n",
       "      <td>0.273</td>\n",
       "      <td>55</td>\n",
       "      <td>37</td>\n",
       "      <td>0.673</td>\n",
       "      <td>17</td>\n",
       "      <td>0.309</td>\n",
       "      <td>0.459</td>\n",
       "    </tr>\n",
       "    <tr>\n",
       "      <th>2</th>\n",
       "      <td>0</td>\n",
       "      <td>0</td>\n",
       "      <td>0</td>\n",
       "      <td>2005</td>\n",
       "      <td>01M292</td>\n",
       "      <td>Total Cohort</td>\n",
       "      <td>9</td>\n",
       "      <td>0.141</td>\n",
       "      <td>16</td>\n",
       "      <td>0.25</td>\n",
       "      <td>...</td>\n",
       "      <td>0.628</td>\n",
       "      <td>HENRY STREET SCHOOL FOR INTERNATIONAL</td>\n",
       "      <td>9</td>\n",
       "      <td>0.141</td>\n",
       "      <td>64</td>\n",
       "      <td>43</td>\n",
       "      <td>0.672</td>\n",
       "      <td>27</td>\n",
       "      <td>0.422</td>\n",
       "      <td>0.628</td>\n",
       "    </tr>\n",
       "    <tr>\n",
       "      <th>3</th>\n",
       "      <td>0</td>\n",
       "      <td>0</td>\n",
       "      <td>0</td>\n",
       "      <td>2006</td>\n",
       "      <td>01M292</td>\n",
       "      <td>Total Cohort</td>\n",
       "      <td>11</td>\n",
       "      <td>0.141</td>\n",
       "      <td>7</td>\n",
       "      <td>0.09</td>\n",
       "      <td>...</td>\n",
       "      <td>0.837</td>\n",
       "      <td>HENRY STREET SCHOOL FOR INTERNATIONAL</td>\n",
       "      <td>16</td>\n",
       "      <td>0.205</td>\n",
       "      <td>78</td>\n",
       "      <td>43</td>\n",
       "      <td>0.551</td>\n",
       "      <td>36</td>\n",
       "      <td>0.462</td>\n",
       "      <td>0.837</td>\n",
       "    </tr>\n",
       "    <tr>\n",
       "      <th>4</th>\n",
       "      <td>0</td>\n",
       "      <td>0</td>\n",
       "      <td>0</td>\n",
       "      <td>2006 Aug</td>\n",
       "      <td>01M292</td>\n",
       "      <td>Total Cohort</td>\n",
       "      <td>11</td>\n",
       "      <td>0.141</td>\n",
       "      <td>7</td>\n",
       "      <td>0.09</td>\n",
       "      <td>...</td>\n",
       "      <td>0.841</td>\n",
       "      <td>HENRY STREET SCHOOL FOR INTERNATIONAL</td>\n",
       "      <td>15</td>\n",
       "      <td>0.192</td>\n",
       "      <td>78</td>\n",
       "      <td>44</td>\n",
       "      <td>0.564</td>\n",
       "      <td>37</td>\n",
       "      <td>0.474</td>\n",
       "      <td>0.841</td>\n",
       "    </tr>\n",
       "  </tbody>\n",
       "</table>\n",
       "<p>5 rows × 23 columns</p>\n",
       "</div>"
      ],
      "text/plain": [
       "  advanced_regents_n advanced_regents_of_cohort advanced_regents_of_grads  \\\n",
       "0                  s                        NaN                       NaN   \n",
       "1                  0                          0                         0   \n",
       "2                  0                          0                         0   \n",
       "3                  0                          0                         0   \n",
       "4                  0                          0                         0   \n",
       "\n",
       "     cohort     dbn   demographic dropped_out_n dropped_out_of_cohort local_n  \\\n",
       "0      2003  01M292  Total Cohort             s                   NaN       s   \n",
       "1      2004  01M292  Total Cohort             3                 0.055      20   \n",
       "2      2005  01M292  Total Cohort             9                 0.141      16   \n",
       "3      2006  01M292  Total Cohort            11                 0.141       7   \n",
       "4  2006 Aug  01M292  Total Cohort            11                 0.141       7   \n",
       "\n",
       "  local_of_cohort          ...           regents_w_o_advanced_of_grads  \\\n",
       "0             NaN          ...                                     NaN   \n",
       "1           0.364          ...                                   0.459   \n",
       "2            0.25          ...                                   0.628   \n",
       "3            0.09          ...                                   0.837   \n",
       "4            0.09          ...                                   0.841   \n",
       "\n",
       "                             school_name still_enrolled_n  \\\n",
       "0  HENRY STREET SCHOOL FOR INTERNATIONAL                s   \n",
       "1  HENRY STREET SCHOOL FOR INTERNATIONAL               15   \n",
       "2  HENRY STREET SCHOOL FOR INTERNATIONAL                9   \n",
       "3  HENRY STREET SCHOOL FOR INTERNATIONAL               16   \n",
       "4  HENRY STREET SCHOOL FOR INTERNATIONAL               15   \n",
       "\n",
       "  still_enrolled_of_cohort total_cohort total_grads_n total_grads_of_cohort  \\\n",
       "0                      NaN            5             s                   NaN   \n",
       "1                    0.273           55            37                 0.673   \n",
       "2                    0.141           64            43                 0.672   \n",
       "3                    0.205           78            43                 0.551   \n",
       "4                    0.192           78            44                 0.564   \n",
       "\n",
       "  total_regents_n total_regents_of_cohort total_regents_of_grads  \n",
       "0               s                     NaN                    NaN  \n",
       "1              17                   0.309                  0.459  \n",
       "2              27                   0.422                  0.628  \n",
       "3              36                   0.462                  0.837  \n",
       "4              37                   0.474                  0.841  \n",
       "\n",
       "[5 rows x 23 columns]"
      ]
     },
     "execution_count": 14,
     "metadata": {},
     "output_type": "execute_result"
    }
   ],
   "source": [
    "data['graduation'].head()"
   ]
  },
  {
   "cell_type": "code",
   "execution_count": 15,
   "metadata": {
    "collapsed": true
   },
   "outputs": [],
   "source": [
    "# Graduation dataset. Not unique on dbn due to cohort and demographic. The most recent cohort option is 2006, so we'll use that.\n",
    "# We'll also stick to total cohort. See the data dictionary for full details on what these columns mean.\n",
    "data[\"graduation\"] = data[\"graduation\"][data[\"graduation\"][\"cohort\"] == \"2006\"]\n",
    "data[\"graduation\"] = data[\"graduation\"][data[\"graduation\"][\"demographic\"] == \"Total Cohort\"]"
   ]
  },
  {
   "cell_type": "markdown",
   "metadata": {},
   "source": [
    "# Combine the datasets\n",
    "Finally we are ready to merge the datasets into one."
   ]
  },
  {
   "cell_type": "code",
   "execution_count": 16,
   "metadata": {
    "collapsed": true
   },
   "outputs": [],
   "source": [
    "# Start with the most important set for our analysis, sat results.\n",
    "combined = data[\"sat_results\"]\n",
    "\n",
    "# AP_2010 and graduation are missing a lot of the dbn values from the sat results set. To avoid throwing away\n",
    "# too many of our sat results rows, we'll left join these two into the combined dataset.\n",
    "combined = combined.merge(data[\"ap_2010\"], on=\"dbn\", how=\"left\")\n",
    "combined = combined.merge(data[\"graduation\"], on=\"dbn\", how=\"left\")\n",
    "\n",
    "# The other sets contain more of the same dbn numbers, and also lots of useful data, so we'll inner join them.\n",
    "to_merge = [\"class_size\", \"demographics\", \"survey\", \"hs_directory\"]\n",
    "for m in to_merge:\n",
    "    combined = combined.merge(data[m], on=\"dbn\", how=\"inner\")\n",
    "\n",
    "# We've got some null columns. To simplify processing later, we'll just use a fairly naive null handling strategy of \n",
    "# filling nulls with the column mean, or zero if that's not possible.\n",
    "combined = combined.fillna(combined.mean())\n",
    "combined = combined.fillna(0)"
   ]
  },
  {
   "cell_type": "markdown",
   "metadata": {},
   "source": [
    "# Add a school district column for mapping"
   ]
  },
  {
   "cell_type": "code",
   "execution_count": 17,
   "metadata": {
    "collapsed": true
   },
   "outputs": [],
   "source": [
    "def get_first_two_chars(dbn):\n",
    "    return dbn[0:2]\n",
    "\n",
    "combined[\"school_dist\"] = combined[\"dbn\"].apply(get_first_two_chars)"
   ]
  },
  {
   "cell_type": "markdown",
   "metadata": {},
   "source": [
    "# Find correlations\n",
    "To start our analysis, we'll just take a quick look at which columns correlate strongly with sat_score."
   ]
  },
  {
   "cell_type": "code",
   "execution_count": 18,
   "metadata": {},
   "outputs": [
    {
     "data": {
      "text/plain": [
       "sat_critical_reading_avg_score          0.986820\n",
       "sat_math_avg_score                      0.972643\n",
       "sat_writing_avg_score                   0.987771\n",
       "sat_score                               1.000000\n",
       "ap_test_takers_                         0.523140\n",
       "number_of_exams_with_scores_3_4_or_5    0.463245\n",
       "total_exams_taken                       0.514333\n",
       "average_class_size                      0.381014\n",
       "asian_num                               0.475445\n",
       "asian_per                               0.570730\n",
       "black_num                               0.027979\n",
       "black_per                              -0.284139\n",
       "ell_percent                            -0.398750\n",
       "female_num                              0.388631\n",
       "female_per                              0.112108\n",
       "fl_percent                                   NaN\n",
       "frl_percent                            -0.722225\n",
       "hispanic_num                            0.025744\n",
       "hispanic_per                           -0.396985\n",
       "male_num                                0.325520\n",
       "male_per                               -0.112062\n",
       "schoolyear                                   NaN\n",
       "sped_num                                0.034933\n",
       "sped_percent                           -0.448170\n",
       "total_enrollment                        0.367857\n",
       "white_num                               0.449559\n",
       "white_per                               0.620718\n",
       "rr_s                                    0.232199\n",
       "rr_t                                   -0.023386\n",
       "rr_p                                    0.047925\n",
       "N_s                                     0.423463\n",
       "N_t                                     0.291463\n",
       "N_p                                     0.421530\n",
       "saf_p_11                                0.122913\n",
       "com_p_11                               -0.115073\n",
       "eng_p_11                                0.020254\n",
       "aca_p_11                                0.035155\n",
       "saf_t_11                                0.313810\n",
       "com_t_11                                0.082419\n",
       "eng_t_10                                     NaN\n",
       "aca_t_11                                0.132348\n",
       "saf_s_11                                0.337639\n",
       "com_s_11                                0.187370\n",
       "eng_s_11                                0.213822\n",
       "aca_s_11                                0.339435\n",
       "saf_tot_11                              0.318753\n",
       "com_tot_11                              0.077310\n",
       "eng_tot_11                              0.100102\n",
       "aca_tot_11                              0.190966\n",
       "expgrade_span_min                            NaN\n",
       "priority08                                   NaN\n",
       "priority09                                   NaN\n",
       "priority10                                   NaN\n",
       "lat                                    -0.132222\n",
       "lon                                    -0.132222\n",
       "Name: sat_score, dtype: float64"
      ]
     },
     "execution_count": 18,
     "metadata": {},
     "output_type": "execute_result"
    }
   ],
   "source": [
    "correlations = combined.corr()\n",
    "correlations = correlations[\"sat_score\"]\n",
    "correlations"
   ]
  },
  {
   "cell_type": "markdown",
   "metadata": {},
   "source": [
    "The above list is a little overwhelming, so let's view these graphically.\n",
    "\n",
    "#  Plot correlations\n",
    "We'll use pyplot, but while we're at it we'll import basemap for use later. "
   ]
  },
  {
   "cell_type": "code",
   "execution_count": 19,
   "metadata": {},
   "outputs": [
    {
     "data": {
      "text/plain": [
       "<matplotlib.axes._subplots.AxesSubplot at 0x1c410e25128>"
      ]
     },
     "execution_count": 19,
     "metadata": {},
     "output_type": "execute_result"
    },
    {
     "data": {
      "image/png": "[encoded data removed]",
      "text/plain": [
       "<matplotlib.figure.Figure at 0x1c410e28b00>"
      ]
     },
     "metadata": {},
     "output_type": "display_data"
    }
   ],
   "source": [
    "import matplotlib.pyplot as plt\n",
    "#from mpl_toolkits.basemap import Basemap\n",
    "%matplotlib inline\n",
    "\n",
    "# We'll have a look at the survey results and how they correlate with SAT score first.\n",
    "# We still have the survey fields in a list from earlier.\n",
    "correlations[survey_fields].plot.bar()"
   ]
  },
  {
   "cell_type": "markdown",
   "metadata": {},
   "source": [
    "### Results:\n",
    "Strong correlation between number of survey respondants and SAT score. Perhaps not surprising as more engaged students/parents will generally perform better.\n",
    "\n",
    "Strong correlation between perception of safety and respect and SAT score. Perceived safety and average SAT score are plotted below."
   ]
  },
  {
   "cell_type": "code",
   "execution_count": 20,
   "metadata": {},
   "outputs": [
    {
     "data": {
      "text/plain": [
       "<matplotlib.axes._subplots.AxesSubplot at 0x1c410de9240>"
      ]
     },
     "execution_count": 20,
     "metadata": {},
     "output_type": "execute_result"
    },
    {
     "data": {
      "image/png": "[encoded data removed]",
      "text/plain": [
       "<matplotlib.figure.Figure at 0x1c410dc61d0>"
      ]
     },
     "metadata": {},
     "output_type": "display_data"
    }
   ],
   "source": [
    "combined.plot.scatter(\"saf_s_11\", \"sat_score\")"
   ]
  },
  {
   "cell_type": "markdown",
   "metadata": {},
   "source": [
    "There does appear to be a fairly weak correlation. This makes sense, as it'll be difficult to learn in an unsafe environment."
   ]
  },
  {
   "cell_type": "markdown",
   "metadata": {},
   "source": [
    "# Average safety scores by district\n",
    "We're going to plot average safety scores, per the survey results, by district, as a map. This stage requires basemap, which is not provided by anaconda (python 3.x) by default."
   ]
  },
  {
   "cell_type": "code",
   "execution_count": 12,
   "metadata": {},
   "outputs": [
    {
     "data": {
      "image/png": "[encoded data removed]",
      "text/plain": [
       "<matplotlib.figure.Figure at 0x7fc702402160>"
      ]
     },
     "metadata": {},
     "output_type": "display_data"
    }
   ],
   "source": [
    "# create districts df as a summary\n",
    "districts = combined.groupby(\"school_dist\").agg(numpy.mean)\n",
    "districts.reset_index(inplace=True)\n",
    "\n",
    "m = Basemap(\n",
    "    projection='merc',\n",
    "    llcrnrlat=40.496044,\n",
    "    urcrnrlat=40.915256,\n",
    "    llcrnrlon=-74.255735,\n",
    "    urcrnrlon=-73.700272,\n",
    "    resolution='i'\n",
    ")\n",
    " \n",
    "m.drawmapboundary(fill_color='#85A6D9')\n",
    "m.drawcoastlines(color='#6D5F47', linewidth=.4)\n",
    "m.drawrivers(color='#6D5F47', linewidth=.4)\n",
    "m.fillcontinents(color='white',lake_color='#85A6D9')\n",
    " \n",
    "longitudes = districts[\"lon\"].tolist()\n",
    "latitudes = districts[\"lat\"].tolist()\n",
    "m.scatter(longitudes, latitudes, s=50, zorder=2, latlon=True, c=districts[\"saf_s_11\"], cmap=\"summer\")\n",
    "m.colorbar()\n",
    "plt.show()"
   ]
  },
  {
   "cell_type": "markdown",
   "metadata": {},
   "source": [
    "Properly drawing useful information from this map requires some domain knowledge, namely some understanding of New York geography, that I don't have, but the map is left in for illustration purposes."
   ]
  },
  {
   "cell_type": "markdown",
   "metadata": {
    "collapsed": true
   },
   "source": [
    "# Racial Differences"
   ]
  },
  {
   "cell_type": "code",
   "execution_count": 21,
   "metadata": {},
   "outputs": [
    {
     "data": {
      "text/plain": [
       "<matplotlib.axes._subplots.AxesSubplot at 0x1c410d248d0>"
      ]
     },
     "execution_count": 21,
     "metadata": {},
     "output_type": "execute_result"
    },
    {
     "data": {
      "image/png": "[encoded data removed]",
      "text/plain": [
       "<matplotlib.figure.Figure at 0x1c410cab668>"
      ]
     },
     "metadata": {},
     "output_type": "display_data"
    }
   ],
   "source": [
    "correlations.loc[['white_per','asian_per','black_per','hispanic_per']].plot.bar()"
   ]
  },
  {
   "cell_type": "markdown",
   "metadata": {},
   "source": [
    "Results are quite stark: Strong positive correlation between SAT score and percentage of white or asian students, and a weaker negative association with percentage of black and hispanic students. It's interesting that, contrary to the impressions given by popular culture, the negative correlation is stronger for hispanic percentage. We'll look at that more closely below."
   ]
  },
  {
   "cell_type": "code",
   "execution_count": 36,
   "metadata": {},
   "outputs": [
    {
     "data": {
      "image/png": "[encoded data removed]",
      "text/plain": [
       "<matplotlib.figure.Figure at 0x1c412d1f7b8>"
      ]
     },
     "metadata": {},
     "output_type": "display_data"
    }
   ],
   "source": [
    "# Plotting average sat scores against hispanic percentage.\n",
    "combined.plot.scatter('hispanic_per','sat_score')\n",
    "\n",
    "# Adding a horizontal line for average SAT score.\n",
    "avg_sat = combined['sat_score'].mean()\n",
    "plt.axhline(avg_sat, c=(200/255, 50/255, 50/255), alpha=1)\n",
    "plt.title('Plot of sat scores vs hispanic percentage')\n",
    "plt.show()"
   ]
  },
  {
   "cell_type": "markdown",
   "metadata": {},
   "source": [
    "From the scatter plot, the correlation doesn't look all that strong. There are a cluster of very poor performing schools with a very high hispanic percentage. We'll quickly have a look at those."
   ]
  },
  {
   "cell_type": "code",
   "execution_count": 30,
   "metadata": {},
   "outputs": [
    {
     "data": {
      "text/html": [
       "<div>\n",
       "<style>\n",
       "    .dataframe thead tr:only-child th {\n",
       "        text-align: right;\n",
       "    }\n",
       "\n",
       "    .dataframe thead th {\n",
       "        text-align: left;\n",
       "    }\n",
       "\n",
       "    .dataframe tbody tr th {\n",
       "        vertical-align: top;\n",
       "    }\n",
       "</style>\n",
       "<table border=\"1\" class=\"dataframe\">\n",
       "  <thead>\n",
       "    <tr style=\"text-align: right;\">\n",
       "      <th></th>\n",
       "      <th>school_name</th>\n",
       "      <th>hispanic_per</th>\n",
       "      <th>sat_math_avg_score</th>\n",
       "      <th>sat_critical_reading_avg_score</th>\n",
       "      <th>sat_writing_avg_score</th>\n",
       "    </tr>\n",
       "  </thead>\n",
       "  <tbody>\n",
       "    <tr>\n",
       "      <th>44</th>\n",
       "      <td>Manhattan Bridges High School</td>\n",
       "      <td>99.8</td>\n",
       "      <td>378.0</td>\n",
       "      <td>336.0</td>\n",
       "      <td>344.0</td>\n",
       "    </tr>\n",
       "    <tr>\n",
       "      <th>82</th>\n",
       "      <td>Washington Heights Expeditionary Learning School</td>\n",
       "      <td>96.7</td>\n",
       "      <td>395.0</td>\n",
       "      <td>380.0</td>\n",
       "      <td>399.0</td>\n",
       "    </tr>\n",
       "    <tr>\n",
       "      <th>89</th>\n",
       "      <td>Gregorio Luperon High School for Science and M...</td>\n",
       "      <td>99.8</td>\n",
       "      <td>349.0</td>\n",
       "      <td>339.0</td>\n",
       "      <td>326.0</td>\n",
       "    </tr>\n",
       "    <tr>\n",
       "      <th>125</th>\n",
       "      <td>Academy for Language and Technology</td>\n",
       "      <td>99.4</td>\n",
       "      <td>339.0</td>\n",
       "      <td>315.0</td>\n",
       "      <td>297.0</td>\n",
       "    </tr>\n",
       "    <tr>\n",
       "      <th>141</th>\n",
       "      <td>International School for Liberal Arts</td>\n",
       "      <td>99.8</td>\n",
       "      <td>333.0</td>\n",
       "      <td>300.0</td>\n",
       "      <td>301.0</td>\n",
       "    </tr>\n",
       "    <tr>\n",
       "      <th>176</th>\n",
       "      <td>Pan American International High School at Monroe</td>\n",
       "      <td>99.8</td>\n",
       "      <td>351.0</td>\n",
       "      <td>321.0</td>\n",
       "      <td>298.0</td>\n",
       "    </tr>\n",
       "    <tr>\n",
       "      <th>253</th>\n",
       "      <td>Multicultural High School</td>\n",
       "      <td>99.8</td>\n",
       "      <td>322.0</td>\n",
       "      <td>279.0</td>\n",
       "      <td>286.0</td>\n",
       "    </tr>\n",
       "    <tr>\n",
       "      <th>286</th>\n",
       "      <td>Pan American International High School</td>\n",
       "      <td>100.0</td>\n",
       "      <td>323.0</td>\n",
       "      <td>317.0</td>\n",
       "      <td>311.0</td>\n",
       "    </tr>\n",
       "  </tbody>\n",
       "</table>\n",
       "</div>"
      ],
      "text/plain": [
       "                                           school_name  hispanic_per  \\\n",
       "44                       Manhattan Bridges High School          99.8   \n",
       "82    Washington Heights Expeditionary Learning School          96.7   \n",
       "89   Gregorio Luperon High School for Science and M...          99.8   \n",
       "125                Academy for Language and Technology          99.4   \n",
       "141              International School for Liberal Arts          99.8   \n",
       "176   Pan American International High School at Monroe          99.8   \n",
       "253                          Multicultural High School          99.8   \n",
       "286             Pan American International High School         100.0   \n",
       "\n",
       "     sat_math_avg_score  sat_critical_reading_avg_score  sat_writing_avg_score  \n",
       "44                378.0                           336.0                  344.0  \n",
       "82                395.0                           380.0                  399.0  \n",
       "89                349.0                           339.0                  326.0  \n",
       "125               339.0                           315.0                  297.0  \n",
       "141               333.0                           300.0                  301.0  \n",
       "176               351.0                           321.0                  298.0  \n",
       "253               322.0                           279.0                  286.0  \n",
       "286               323.0                           317.0                  311.0  "
      ]
     },
     "execution_count": 30,
     "metadata": {},
     "output_type": "execute_result"
    }
   ],
   "source": [
    "# Schools with a hispanic percentage over 95%\n",
    "combined[['school_name','hispanic_per','sat_math_avg_score', 'sat_critical_reading_avg_score', 'sat_writing_avg_score']][combined['hispanic_per'] > 95]"
   ]
  },
  {
   "cell_type": "markdown",
   "metadata": {},
   "source": [
    "From some work on google, it appears many of these schools appear designed for immigrants to the US, presumably with a large number of students learning english as a second language. This would certainly explain the poorer than average performace on the SAT tests, which include reading and writing exams. Indeed, for almost all of these schools the read and writing results are worse than the mathematics results.\n",
    "\n",
    "Another notable result from the scatter graph is that the majority of the schools with an average SAT over 1800 have a quite small proportion of hispanic students. We'll have a quick look at those too."
   ]
  },
  {
   "cell_type": "code",
   "execution_count": 32,
   "metadata": {},
   "outputs": [
    {
     "data": {
      "text/html": [
       "<div>\n",
       "<style>\n",
       "    .dataframe thead tr:only-child th {\n",
       "        text-align: right;\n",
       "    }\n",
       "\n",
       "    .dataframe thead th {\n",
       "        text-align: left;\n",
       "    }\n",
       "\n",
       "    .dataframe tbody tr th {\n",
       "        vertical-align: top;\n",
       "    }\n",
       "</style>\n",
       "<table border=\"1\" class=\"dataframe\">\n",
       "  <thead>\n",
       "    <tr style=\"text-align: right;\">\n",
       "      <th></th>\n",
       "      <th>school_name</th>\n",
       "      <th>hispanic_per</th>\n",
       "      <th>sat_score</th>\n",
       "    </tr>\n",
       "  </thead>\n",
       "  <tbody>\n",
       "    <tr>\n",
       "      <th>37</th>\n",
       "      <td>Stuyvesant High School</td>\n",
       "      <td>2.4</td>\n",
       "      <td>2096.0</td>\n",
       "    </tr>\n",
       "    <tr>\n",
       "      <th>151</th>\n",
       "      <td>Bronx High School of Science</td>\n",
       "      <td>7.2</td>\n",
       "      <td>1969.0</td>\n",
       "    </tr>\n",
       "    <tr>\n",
       "      <th>187</th>\n",
       "      <td>Brooklyn Technical High School</td>\n",
       "      <td>7.9</td>\n",
       "      <td>1833.0</td>\n",
       "    </tr>\n",
       "    <tr>\n",
       "      <th>327</th>\n",
       "      <td>Queens High School for the Sciences at York Co...</td>\n",
       "      <td>7.9</td>\n",
       "      <td>1868.0</td>\n",
       "    </tr>\n",
       "    <tr>\n",
       "      <th>356</th>\n",
       "      <td>Staten Island Technical High School</td>\n",
       "      <td>5.3</td>\n",
       "      <td>1953.0</td>\n",
       "    </tr>\n",
       "  </tbody>\n",
       "</table>\n",
       "</div>"
      ],
      "text/plain": [
       "                                           school_name  hispanic_per  \\\n",
       "37                              Stuyvesant High School           2.4   \n",
       "151                       Bronx High School of Science           7.2   \n",
       "187                     Brooklyn Technical High School           7.9   \n",
       "327  Queens High School for the Sciences at York Co...           7.9   \n",
       "356                Staten Island Technical High School           5.3   \n",
       "\n",
       "     sat_score  \n",
       "37      2096.0  \n",
       "151     1969.0  \n",
       "187     1833.0  \n",
       "327     1868.0  \n",
       "356     1953.0  "
      ]
     },
     "execution_count": 32,
     "metadata": {},
     "output_type": "execute_result"
    }
   ],
   "source": [
    "cols = ['school_name','hispanic_per','sat_score']\n",
    "combined[cols][(combined['hispanic_per'] < 10) & (combined['sat_score'] > 1800)]"
   ]
  },
  {
   "cell_type": "markdown",
   "metadata": {},
   "source": [
    "All five of these schools appear on the list of Specialized High Schools of new york. All are selective, requiring that a student pass an additional test to enroll (the SHSAT). Apparently the SHSAT has come under scrutiny for being biased against black and hispanic students. In any case, the selective nature of these schools explains the high sat scores."
   ]
  },
  {
   "cell_type": "markdown",
   "metadata": {},
   "source": [
    "# Gender correlations"
   ]
  },
  {
   "cell_type": "code",
   "execution_count": 33,
   "metadata": {},
   "outputs": [
    {
     "data": {
      "text/plain": [
       "<matplotlib.axes._subplots.AxesSubplot at 0x1c412d03d30>"
      ]
     },
     "execution_count": 33,
     "metadata": {},
     "output_type": "execute_result"
    },
    {
     "data": {
      "image/png": "[encoded data removed]",
      "text/plain": [
       "<matplotlib.figure.Figure at 0x1c412d209b0>"
      ]
     },
     "metadata": {},
     "output_type": "display_data"
    }
   ],
   "source": [
    "correlations.loc[['male_per','female_per']].plot.bar()"
   ]
  },
  {
   "cell_type": "markdown",
   "metadata": {},
   "source": [
    "Smallish positive correlation between female percentage and sat score. Corresponding small negative correlation between male percentage and SAT score."
   ]
  },
  {
   "cell_type": "code",
   "execution_count": 35,
   "metadata": {
    "scrolled": true
   },
   "outputs": [
    {
     "data": {
      "text/plain": [
       "<matplotlib.text.Text at 0x1c412cb2cf8>"
      ]
     },
     "execution_count": 35,
     "metadata": {},
     "output_type": "execute_result"
    },
    {
     "data": {
      "image/png": "[encoded data removed]",
      "text/plain": [
       "<matplotlib.figure.Figure at 0x1c412cc31d0>"
      ]
     },
     "metadata": {},
     "output_type": "display_data"
    }
   ],
   "source": [
    "combined.plot.scatter('female_per','sat_score')\n",
    "plt.axhline(avg_sat, c=(200/255, 50/255, 50/255))\n",
    "plt.axvline(50, c=(200/255, 50/255, 50/255))\n",
    "plt.title('Average SAT score vs percentage of female students')"
   ]
  },
  {
   "cell_type": "markdown",
   "metadata": {},
   "source": [
    "Difficult to spot interesting results here, which is unsurprising since the correlation was fairly low. There do seem to be more schools in the top right quarter, but no particularly obvious clustering."
   ]
  },
  {
   "cell_type": "code",
   "execution_count": 38,
   "metadata": {},
   "outputs": [
    {
     "data": {
      "text/html": [
       "<div>\n",
       "<style>\n",
       "    .dataframe thead tr:only-child th {\n",
       "        text-align: right;\n",
       "    }\n",
       "\n",
       "    .dataframe thead th {\n",
       "        text-align: left;\n",
       "    }\n",
       "\n",
       "    .dataframe tbody tr th {\n",
       "        vertical-align: top;\n",
       "    }\n",
       "</style>\n",
       "<table border=\"1\" class=\"dataframe\">\n",
       "  <thead>\n",
       "    <tr style=\"text-align: right;\">\n",
       "      <th></th>\n",
       "      <th>school_name</th>\n",
       "      <th>female_per</th>\n",
       "      <th>sat_score</th>\n",
       "    </tr>\n",
       "  </thead>\n",
       "  <tbody>\n",
       "    <tr>\n",
       "      <th>5</th>\n",
       "      <td>Bard High School Early College</td>\n",
       "      <td>68.7</td>\n",
       "      <td>1856.0</td>\n",
       "    </tr>\n",
       "    <tr>\n",
       "      <th>26</th>\n",
       "      <td>Eleanor Roosevelt High School</td>\n",
       "      <td>67.5</td>\n",
       "      <td>1758.0</td>\n",
       "    </tr>\n",
       "    <tr>\n",
       "      <th>60</th>\n",
       "      <td>Beacon High School</td>\n",
       "      <td>61.0</td>\n",
       "      <td>1744.0</td>\n",
       "    </tr>\n",
       "    <tr>\n",
       "      <th>61</th>\n",
       "      <td>Fiorello H. LaGuardia High School of Music &amp; A...</td>\n",
       "      <td>73.6</td>\n",
       "      <td>1707.0</td>\n",
       "    </tr>\n",
       "    <tr>\n",
       "      <th>302</th>\n",
       "      <td>Townsend Harris High School</td>\n",
       "      <td>71.1</td>\n",
       "      <td>1910.0</td>\n",
       "    </tr>\n",
       "  </tbody>\n",
       "</table>\n",
       "</div>"
      ],
      "text/plain": [
       "                                           school_name  female_per  sat_score\n",
       "5                       Bard High School Early College        68.7     1856.0\n",
       "26                       Eleanor Roosevelt High School        67.5     1758.0\n",
       "60                                  Beacon High School        61.0     1744.0\n",
       "61   Fiorello H. LaGuardia High School of Music & A...        73.6     1707.0\n",
       "302                        Townsend Harris High School        71.1     1910.0"
      ]
     },
     "execution_count": 38,
     "metadata": {},
     "output_type": "execute_result"
    }
   ],
   "source": [
    "# Closer look at the schools in the very top right of the graph\n",
    "combined[['school_name','female_per','sat_score']][(combined['female_per'] > 60) & (combined['sat_score']>1700)]"
   ]
  },
  {
   "cell_type": "markdown",
   "metadata": {},
   "source": [
    "These schools all appear to be selective, which explains their higher than average sat scores. With the exception of Townsend Harris, these schools seem to focus primarily on liberal arts subjects. It is plausible that this subject focus explains the higher percentage of female students.\n",
    "\n",
    "# AP Exam takers percentage\n",
    "The advance placement (AP) exam is generally taken by high achieving high school students as an early contribution to their higher education courses. We'll take a look at how the percentage of ap test takers at a school is related to the school's average SAT results."
   ]
  },
  {
   "cell_type": "code",
   "execution_count": 41,
   "metadata": {},
   "outputs": [
    {
     "data": {
      "text/plain": [
       "<matplotlib.lines.Line2D at 0x1c412d0a1d0>"
      ]
     },
     "execution_count": 41,
     "metadata": {},
     "output_type": "execute_result"
    },
    {
     "data": {
      "image/png": "[encoded data removed]",
      "text/plain": [
       "<matplotlib.figure.Figure at 0x1c412ce9748>"
      ]
     },
     "metadata": {},
     "output_type": "display_data"
    }
   ],
   "source": [
    "# Create an AP taker percentage column in our combined dataset\n",
    "combined['ap_per'] = combined['ap_test_takers_'] / combined['total_enrollment']\n",
    "\n",
    "# Scatter plot with lines for average sat score and average ap test takers percentage\n",
    "combined.plot.scatter('ap_per','sat_score')\n",
    "plt.axhline(avg_sat, c=(200/255,50/255,50/255))\n",
    "plt.axvline(combined['ap_per'].mean(),c=(200/255,50/255,50/255))"
   ]
  },
  {
   "cell_type": "markdown",
   "metadata": {},
   "source": [
    "Here there are two obvious clusters, and two obvious lines extending from these clusters. The line extending to the top right is fairly understandable: Schools that achieve good SAT results have more students taking AP exams.\n",
    "The second line is more confusing: There seem to be a number of schools with higher percentages of students taking AP exams despite very average SAT scores for the school overall. We'll have a look at those schools."
   ]
  },
  {
   "cell_type": "code",
   "execution_count": 42,
   "metadata": {},
   "outputs": [
    {
     "data": {
      "text/html": [
       "<div>\n",
       "<style>\n",
       "    .dataframe thead tr:only-child th {\n",
       "        text-align: right;\n",
       "    }\n",
       "\n",
       "    .dataframe thead th {\n",
       "        text-align: left;\n",
       "    }\n",
       "\n",
       "    .dataframe tbody tr th {\n",
       "        vertical-align: top;\n",
       "    }\n",
       "</style>\n",
       "<table border=\"1\" class=\"dataframe\">\n",
       "  <thead>\n",
       "    <tr style=\"text-align: right;\">\n",
       "      <th></th>\n",
       "      <th>school_name</th>\n",
       "      <th>sat_score</th>\n",
       "      <th>ap_per</th>\n",
       "    </tr>\n",
       "  </thead>\n",
       "  <tbody>\n",
       "    <tr>\n",
       "      <th>6</th>\n",
       "      <td>47 The American Sign Language and English Seco...</td>\n",
       "      <td>1182.000000</td>\n",
       "      <td>0.741545</td>\n",
       "    </tr>\n",
       "    <tr>\n",
       "      <th>31</th>\n",
       "      <td>MANHATTAN ACADEMY FOR ARTS &amp; LANGUAGE</td>\n",
       "      <td>1223.438806</td>\n",
       "      <td>0.737308</td>\n",
       "    </tr>\n",
       "    <tr>\n",
       "      <th>33</th>\n",
       "      <td>International High School at Union Square</td>\n",
       "      <td>1223.438806</td>\n",
       "      <td>0.733118</td>\n",
       "    </tr>\n",
       "    <tr>\n",
       "      <th>83</th>\n",
       "      <td>High School for Excellence and Innovation</td>\n",
       "      <td>1223.438806</td>\n",
       "      <td>0.724881</td>\n",
       "    </tr>\n",
       "    <tr>\n",
       "      <th>111</th>\n",
       "      <td>BRONX BRIDGES HIGH SCHOOL</td>\n",
       "      <td>1223.438806</td>\n",
       "      <td>0.832444</td>\n",
       "    </tr>\n",
       "    <tr>\n",
       "      <th>208</th>\n",
       "      <td>Frances Perkins Academy</td>\n",
       "      <td>1122.000000</td>\n",
       "      <td>0.745831</td>\n",
       "    </tr>\n",
       "    <tr>\n",
       "      <th>222</th>\n",
       "      <td>The Brooklyn Academy of Global Finance</td>\n",
       "      <td>1223.438806</td>\n",
       "      <td>0.811502</td>\n",
       "    </tr>\n",
       "    <tr>\n",
       "      <th>335</th>\n",
       "      <td>Cambria Heights Academy</td>\n",
       "      <td>1223.438806</td>\n",
       "      <td>0.877747</td>\n",
       "    </tr>\n",
       "  </tbody>\n",
       "</table>\n",
       "</div>"
      ],
      "text/plain": [
       "                                           school_name    sat_score    ap_per\n",
       "6    47 The American Sign Language and English Seco...  1182.000000  0.741545\n",
       "31               MANHATTAN ACADEMY FOR ARTS & LANGUAGE  1223.438806  0.737308\n",
       "33           International High School at Union Square  1223.438806  0.733118\n",
       "83           High School for Excellence and Innovation  1223.438806  0.724881\n",
       "111                          BRONX BRIDGES HIGH SCHOOL  1223.438806  0.832444\n",
       "208                            Frances Perkins Academy  1122.000000  0.745831\n",
       "222             The Brooklyn Academy of Global Finance  1223.438806  0.811502\n",
       "335                            Cambria Heights Academy  1223.438806  0.877747"
      ]
     },
     "execution_count": 42,
     "metadata": {},
     "output_type": "execute_result"
    }
   ],
   "source": [
    "combined[['school_name','sat_score','ap_per']][(combined['ap_per']>0.7) & (combined['sat_score']<1300)]"
   ]
  },
  {
   "cell_type": "markdown",
   "metadata": {},
   "source": [
    "# Class Size"
   ]
  },
  {
   "cell_type": "code",
   "execution_count": 46,
   "metadata": {},
   "outputs": [
    {
     "name": "stdout",
     "output_type": "stream",
     "text": [
      "0.38101433081\n"
     ]
    },
    {
     "data": {
      "text/plain": [
       "<matplotlib.lines.Line2D at 0x1c412d89940>"
      ]
     },
     "execution_count": 46,
     "metadata": {},
     "output_type": "execute_result"
    },
    {
     "data": {
      "image/png": "[encoded data removed]",
      "text/plain": [
       "<matplotlib.figure.Figure at 0x1c412d4beb8>"
      ]
     },
     "metadata": {},
     "output_type": "display_data"
    }
   ],
   "source": [
    "print(correlations['average_class_size'])\n",
    "combined.plot.scatter('average_class_size','sat_score')\n",
    "plt.axhline(avg_sat, c=(200/255,50/255,50/255))\n",
    "plt.axvline(combined['average_class_size'].mean(),c=(200/255,50/255,50/255))"
   ]
  },
  {
   "cell_type": "markdown",
   "metadata": {},
   "source": [
    "Somewhat surprisingly, the correlation between class size and average sat score is positive.\n",
    "\n",
    "Anyhow, here we have combined data from various different sources files, cleaned it up a bit, and started some intiial investigation into the correlations it contains. The final dataset is incredibly rich, so we could study it almost indefinitely but we will stop here for now."
   ]
  }
 ],
 "metadata": {
  "kernelspec": {
   "display_name": "Python 3",
   "language": "python",
   "name": "python3"
  },
  "language_info": {
   "codemirror_mode": {
    "name": "ipython",
    "version": 3
   },
   "file_extension": ".py",
   "mimetype": "text/x-python",
   "name": "python",
   "nbconvert_exporter": "python",
   "pygments_lexer": "ipython3",
   "version": "3.6.1"
  }
 },
 "nbformat": 4,
 "nbformat_minor": 1
}
